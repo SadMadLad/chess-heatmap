{
 "cells": [
  {
   "cell_type": "markdown",
   "id": "standard-safety",
   "metadata": {},
   "source": [
    "# Chess Heatmap Project"
   ]
  },
  {
   "cell_type": "markdown",
   "id": "legal-serbia",
   "metadata": {},
   "source": [
    "## Importing Libraries"
   ]
  },
  {
   "cell_type": "markdown",
   "id": "macro-triumph",
   "metadata": {},
   "source": [
    "Pandas to read data and edit data\n",
    "<br>\n",
    "Numpy to manipulate rows and columns\n",
    "<br>\n",
    "Seaborn for the heatmap\n",
    "<br>\n",
    "Matplotlib to manage the plots"
   ]
  },
  {
   "cell_type": "code",
   "execution_count": 1,
   "id": "loaded-destiny",
   "metadata": {},
   "outputs": [],
   "source": [
    "import pandas as pd\n",
    "import numpy as np\n",
    "import seaborn as sns\n",
    "import matplotlib.pyplot as plt\n"
   ]
  },
  {
   "cell_type": "code",
   "execution_count": 2,
   "id": "saved-daisy",
   "metadata": {},
   "outputs": [
    {
     "data": {
      "text/html": [
       "<div>\n",
       "<style scoped>\n",
       "    .dataframe tbody tr th:only-of-type {\n",
       "        vertical-align: middle;\n",
       "    }\n",
       "\n",
       "    .dataframe tbody tr th {\n",
       "        vertical-align: top;\n",
       "    }\n",
       "\n",
       "    .dataframe thead th {\n",
       "        text-align: right;\n",
       "    }\n",
       "</style>\n",
       "<table border=\"1\" class=\"dataframe\">\n",
       "  <thead>\n",
       "    <tr style=\"text-align: right;\">\n",
       "      <th></th>\n",
       "      <th>Game</th>\n",
       "      <th>White</th>\n",
       "      <th>Black</th>\n",
       "      <th>White Elo</th>\n",
       "      <th>Black Elo</th>\n",
       "      <th>White RD</th>\n",
       "      <th>Black RD</th>\n",
       "      <th>WhiteIsComp</th>\n",
       "      <th>BlackIsComp</th>\n",
       "      <th>TimeControl</th>\n",
       "      <th>Date</th>\n",
       "      <th>Time</th>\n",
       "      <th>White Clock</th>\n",
       "      <th>Black Clock</th>\n",
       "      <th>ECO</th>\n",
       "      <th>PlyCount</th>\n",
       "      <th>Result</th>\n",
       "      <th>Result-Winner</th>\n",
       "      <th>Commentaries</th>\n",
       "      <th>Moves</th>\n",
       "    </tr>\n",
       "  </thead>\n",
       "  <tbody>\n",
       "    <tr>\n",
       "      <th>0</th>\n",
       "      <td>\"zerowin\" vs \"GeidiPrime\"</td>\n",
       "      <td>zerowin</td>\n",
       "      <td>GeidiPrime</td>\n",
       "      <td>2848</td>\n",
       "      <td>2464</td>\n",
       "      <td>0.0</td>\n",
       "      <td>0.0</td>\n",
       "      <td>Yes</td>\n",
       "      <td>Yes</td>\n",
       "      <td>900+0</td>\n",
       "      <td>2016.12.31</td>\n",
       "      <td>23:17:00</td>\n",
       "      <td>15:00.0</td>\n",
       "      <td>15:00.0</td>\n",
       "      <td>A30</td>\n",
       "      <td>72</td>\n",
       "      <td>1/2-1/2</td>\n",
       "      <td>Draw</td>\n",
       "      <td>Game drawn by mutual agreement</td>\n",
       "      <td>1. c4 c5 2. Nf3 e6 3. g3 b6 4. Bg2 Bb7 5. O-O ...</td>\n",
       "    </tr>\n",
       "    <tr>\n",
       "      <th>1</th>\n",
       "      <td>\"GeidiPrime\" vs \"SlowBox\"</td>\n",
       "      <td>GeidiPrime</td>\n",
       "      <td>SlowBox</td>\n",
       "      <td>2455</td>\n",
       "      <td>2511</td>\n",
       "      <td>0.0</td>\n",
       "      <td>0.0</td>\n",
       "      <td>Yes</td>\n",
       "      <td>Yes</td>\n",
       "      <td>900+0</td>\n",
       "      <td>2016.12.31</td>\n",
       "      <td>20:25:00</td>\n",
       "      <td>15:00.0</td>\n",
       "      <td>15:00.0</td>\n",
       "      <td>D01</td>\n",
       "      <td>127</td>\n",
       "      <td>1-0</td>\n",
       "      <td>White</td>\n",
       "      <td>Black checkmated</td>\n",
       "      <td>1. d4 Nf6 2. Nc3 d5 3. Bg5 Nbd7 4. Nf3 h6 5. B...</td>\n",
       "    </tr>\n",
       "    <tr>\n",
       "      <th>2</th>\n",
       "      <td>\"zerowin\" vs \"GeidiPrime\"</td>\n",
       "      <td>zerowin</td>\n",
       "      <td>GeidiPrime</td>\n",
       "      <td>2846</td>\n",
       "      <td>2457</td>\n",
       "      <td>0.0</td>\n",
       "      <td>0.0</td>\n",
       "      <td>Yes</td>\n",
       "      <td>Yes</td>\n",
       "      <td>900+0</td>\n",
       "      <td>2016.12.31</td>\n",
       "      <td>20:03:00</td>\n",
       "      <td>15:00.0</td>\n",
       "      <td>15:00.0</td>\n",
       "      <td>A40</td>\n",
       "      <td>77</td>\n",
       "      <td>1-0</td>\n",
       "      <td>White</td>\n",
       "      <td>Black resigns</td>\n",
       "      <td>1. d4 e6 2. c4 Bb4+ 3. Bd2 Bxd2+ 4. Qxd2 Nf6 5...</td>\n",
       "    </tr>\n",
       "    <tr>\n",
       "      <th>3</th>\n",
       "      <td>\"GeidiPrime\" vs \"zerowin\"</td>\n",
       "      <td>GeidiPrime</td>\n",
       "      <td>zerowin</td>\n",
       "      <td>2459</td>\n",
       "      <td>2844</td>\n",
       "      <td>0.0</td>\n",
       "      <td>0.0</td>\n",
       "      <td>Yes</td>\n",
       "      <td>Yes</td>\n",
       "      <td>900+0</td>\n",
       "      <td>2016.12.31</td>\n",
       "      <td>19:25:00</td>\n",
       "      <td>15:00.0</td>\n",
       "      <td>15:00.0</td>\n",
       "      <td>C11</td>\n",
       "      <td>128</td>\n",
       "      <td>0-1</td>\n",
       "      <td>Black</td>\n",
       "      <td>White resigns</td>\n",
       "      <td>1. d4 Nf6 2. Nc3 d5 3. Bg5 e6 4. e4 dxe4 5. Nx...</td>\n",
       "    </tr>\n",
       "    <tr>\n",
       "      <th>4</th>\n",
       "      <td>\"FishTest\" vs \"GeidiPrime\"</td>\n",
       "      <td>FishTest</td>\n",
       "      <td>GeidiPrime</td>\n",
       "      <td>3033</td>\n",
       "      <td>2459</td>\n",
       "      <td>0.0</td>\n",
       "      <td>0.0</td>\n",
       "      <td>Yes</td>\n",
       "      <td>Yes</td>\n",
       "      <td>900+0</td>\n",
       "      <td>2016.12.31</td>\n",
       "      <td>18:42:00</td>\n",
       "      <td>15:00.0</td>\n",
       "      <td>15:00.0</td>\n",
       "      <td>C07</td>\n",
       "      <td>131</td>\n",
       "      <td>1-0</td>\n",
       "      <td>White</td>\n",
       "      <td>Black resigns</td>\n",
       "      <td>1. e4 e6 2. d4 d5 3. Nd2 c5 4. exd5 Qxd5 5. dx...</td>\n",
       "    </tr>\n",
       "    <tr>\n",
       "      <th>...</th>\n",
       "      <td>...</td>\n",
       "      <td>...</td>\n",
       "      <td>...</td>\n",
       "      <td>...</td>\n",
       "      <td>...</td>\n",
       "      <td>...</td>\n",
       "      <td>...</td>\n",
       "      <td>...</td>\n",
       "      <td>...</td>\n",
       "      <td>...</td>\n",
       "      <td>...</td>\n",
       "      <td>...</td>\n",
       "      <td>...</td>\n",
       "      <td>...</td>\n",
       "      <td>...</td>\n",
       "      <td>...</td>\n",
       "      <td>...</td>\n",
       "      <td>...</td>\n",
       "      <td>...</td>\n",
       "      <td>...</td>\n",
       "    </tr>\n",
       "    <tr>\n",
       "      <th>48866</th>\n",
       "      <td>\"Hutnik\" vs \"zerowin\"</td>\n",
       "      <td>Hutnik</td>\n",
       "      <td>zerowin</td>\n",
       "      <td>2888</td>\n",
       "      <td>2600</td>\n",
       "      <td>65.7</td>\n",
       "      <td>28.3</td>\n",
       "      <td>Yes</td>\n",
       "      <td>Yes</td>\n",
       "      <td>180+0</td>\n",
       "      <td>2016.01.01</td>\n",
       "      <td>23:18:00</td>\n",
       "      <td>03:00.0</td>\n",
       "      <td>03:00.0</td>\n",
       "      <td>C96</td>\n",
       "      <td>109</td>\n",
       "      <td>1-0</td>\n",
       "      <td>White</td>\n",
       "      <td>Black checkmated</td>\n",
       "      <td>1. d4 d5 2. e3 Nf6 3. Nc3 h6 4. Nf3 e6 5. Be2 ...</td>\n",
       "    </tr>\n",
       "    <tr>\n",
       "      <th>48867</th>\n",
       "      <td>\"GeidiPrime\" vs \"GnuCheese\"</td>\n",
       "      <td>GeidiPrime</td>\n",
       "      <td>GnuCheese</td>\n",
       "      <td>2473</td>\n",
       "      <td>2537</td>\n",
       "      <td>30.4</td>\n",
       "      <td>46.4</td>\n",
       "      <td>Yes</td>\n",
       "      <td>Yes</td>\n",
       "      <td>900+0</td>\n",
       "      <td>2016.01.01</td>\n",
       "      <td>22:56:00</td>\n",
       "      <td>15:00.0</td>\n",
       "      <td>15:00.0</td>\n",
       "      <td>D01</td>\n",
       "      <td>237</td>\n",
       "      <td>1-0</td>\n",
       "      <td>White</td>\n",
       "      <td>Black checkmated</td>\n",
       "      <td>1. e4 e5 2. Nf3 Nc6 3. Bb5 a6 4. Ba4 Nf6 5. O-...</td>\n",
       "    </tr>\n",
       "    <tr>\n",
       "      <th>48868</th>\n",
       "      <td>\"zerowin\" vs \"Hutnik\"</td>\n",
       "      <td>zerowin</td>\n",
       "      <td>Hutnik</td>\n",
       "      <td>2594</td>\n",
       "      <td>2897</td>\n",
       "      <td>28.3</td>\n",
       "      <td>66.3</td>\n",
       "      <td>Yes</td>\n",
       "      <td>Yes</td>\n",
       "      <td>180+0</td>\n",
       "      <td>2016.01.01</td>\n",
       "      <td>23:14:00</td>\n",
       "      <td>03:00.0</td>\n",
       "      <td>03:00.0</td>\n",
       "      <td>D45</td>\n",
       "      <td>93</td>\n",
       "      <td>1/2-1/2</td>\n",
       "      <td>Draw</td>\n",
       "      <td>Game drawn by repetition</td>\n",
       "      <td>1. e4 c5 2. Nf3 e6 3. d4 cxd4 4. Nxd4 Nc6 5. N...</td>\n",
       "    </tr>\n",
       "    <tr>\n",
       "      <th>48869</th>\n",
       "      <td>\"Hutnik\" vs \"zerowin\"</td>\n",
       "      <td>Hutnik</td>\n",
       "      <td>zerowin</td>\n",
       "      <td>2893</td>\n",
       "      <td>2597</td>\n",
       "      <td>66.9</td>\n",
       "      <td>28.4</td>\n",
       "      <td>Yes</td>\n",
       "      <td>Yes</td>\n",
       "      <td>180+0</td>\n",
       "      <td>2016.01.01</td>\n",
       "      <td>23:08:00</td>\n",
       "      <td>03:00.0</td>\n",
       "      <td>03:00.0</td>\n",
       "      <td>C96</td>\n",
       "      <td>147</td>\n",
       "      <td>1-0</td>\n",
       "      <td>White</td>\n",
       "      <td>Black checkmated</td>\n",
       "      <td>1. c4 Nf6 2. Nf3 c5 3. g3 Nc6 4. Bg2 d5 5. O-O...</td>\n",
       "    </tr>\n",
       "    <tr>\n",
       "      <th>48870</th>\n",
       "      <td>\"zerowin\" vs \"Hutnik\"</td>\n",
       "      <td>zerowin</td>\n",
       "      <td>Hutnik</td>\n",
       "      <td>2591</td>\n",
       "      <td>2902</td>\n",
       "      <td>28.4</td>\n",
       "      <td>67.6</td>\n",
       "      <td>Yes</td>\n",
       "      <td>Yes</td>\n",
       "      <td>180+0</td>\n",
       "      <td>2016.01.01</td>\n",
       "      <td>23:02:00</td>\n",
       "      <td>03:00.0</td>\n",
       "      <td>03:00.0</td>\n",
       "      <td>D00</td>\n",
       "      <td>145</td>\n",
       "      <td>1/2-1/2</td>\n",
       "      <td>Draw</td>\n",
       "      <td>Game drawn by stalemate</td>\n",
       "      <td>1. d4 Nf6 2. Nc3 d5 3. Bg5 c6 4. Qd3 Nbd7 5. N...</td>\n",
       "    </tr>\n",
       "  </tbody>\n",
       "</table>\n",
       "<p>48871 rows × 20 columns</p>\n",
       "</div>"
      ],
      "text/plain": [
       "                               Game       White       Black  White Elo  \\\n",
       "0         \"zerowin\" vs \"GeidiPrime\"     zerowin  GeidiPrime       2848   \n",
       "1         \"GeidiPrime\" vs \"SlowBox\"  GeidiPrime     SlowBox       2455   \n",
       "2         \"zerowin\" vs \"GeidiPrime\"     zerowin  GeidiPrime       2846   \n",
       "3         \"GeidiPrime\" vs \"zerowin\"  GeidiPrime     zerowin       2459   \n",
       "4        \"FishTest\" vs \"GeidiPrime\"    FishTest  GeidiPrime       3033   \n",
       "...                             ...         ...         ...        ...   \n",
       "48866         \"Hutnik\" vs \"zerowin\"      Hutnik     zerowin       2888   \n",
       "48867   \"GeidiPrime\" vs \"GnuCheese\"  GeidiPrime   GnuCheese       2473   \n",
       "48868         \"zerowin\" vs \"Hutnik\"     zerowin      Hutnik       2594   \n",
       "48869         \"Hutnik\" vs \"zerowin\"      Hutnik     zerowin       2893   \n",
       "48870         \"zerowin\" vs \"Hutnik\"     zerowin      Hutnik       2591   \n",
       "\n",
       "       Black Elo  White RD  Black RD WhiteIsComp BlackIsComp TimeControl  \\\n",
       "0           2464       0.0       0.0         Yes         Yes       900+0   \n",
       "1           2511       0.0       0.0         Yes         Yes       900+0   \n",
       "2           2457       0.0       0.0         Yes         Yes       900+0   \n",
       "3           2844       0.0       0.0         Yes         Yes       900+0   \n",
       "4           2459       0.0       0.0         Yes         Yes       900+0   \n",
       "...          ...       ...       ...         ...         ...         ...   \n",
       "48866       2600      65.7      28.3         Yes         Yes       180+0   \n",
       "48867       2537      30.4      46.4         Yes         Yes       900+0   \n",
       "48868       2897      28.3      66.3         Yes         Yes       180+0   \n",
       "48869       2597      66.9      28.4         Yes         Yes       180+0   \n",
       "48870       2902      28.4      67.6         Yes         Yes       180+0   \n",
       "\n",
       "             Date      Time White Clock Black Clock  ECO  PlyCount   Result  \\\n",
       "0      2016.12.31  23:17:00     15:00.0     15:00.0  A30        72  1/2-1/2   \n",
       "1      2016.12.31  20:25:00     15:00.0     15:00.0  D01       127      1-0   \n",
       "2      2016.12.31  20:03:00     15:00.0     15:00.0  A40        77      1-0   \n",
       "3      2016.12.31  19:25:00     15:00.0     15:00.0  C11       128      0-1   \n",
       "4      2016.12.31  18:42:00     15:00.0     15:00.0  C07       131      1-0   \n",
       "...           ...       ...         ...         ...  ...       ...      ...   \n",
       "48866  2016.01.01  23:18:00     03:00.0     03:00.0  C96       109      1-0   \n",
       "48867  2016.01.01  22:56:00     15:00.0     15:00.0  D01       237      1-0   \n",
       "48868  2016.01.01  23:14:00     03:00.0     03:00.0  D45        93  1/2-1/2   \n",
       "48869  2016.01.01  23:08:00     03:00.0     03:00.0  C96       147      1-0   \n",
       "48870  2016.01.01  23:02:00     03:00.0     03:00.0  D00       145  1/2-1/2   \n",
       "\n",
       "      Result-Winner                    Commentaries  \\\n",
       "0              Draw  Game drawn by mutual agreement   \n",
       "1             White                Black checkmated   \n",
       "2             White                   Black resigns   \n",
       "3             Black                   White resigns   \n",
       "4             White                   Black resigns   \n",
       "...             ...                             ...   \n",
       "48866         White                Black checkmated   \n",
       "48867         White                Black checkmated   \n",
       "48868          Draw        Game drawn by repetition   \n",
       "48869         White                Black checkmated   \n",
       "48870          Draw         Game drawn by stalemate   \n",
       "\n",
       "                                                   Moves  \n",
       "0      1. c4 c5 2. Nf3 e6 3. g3 b6 4. Bg2 Bb7 5. O-O ...  \n",
       "1      1. d4 Nf6 2. Nc3 d5 3. Bg5 Nbd7 4. Nf3 h6 5. B...  \n",
       "2      1. d4 e6 2. c4 Bb4+ 3. Bd2 Bxd2+ 4. Qxd2 Nf6 5...  \n",
       "3      1. d4 Nf6 2. Nc3 d5 3. Bg5 e6 4. e4 dxe4 5. Nx...  \n",
       "4      1. e4 e6 2. d4 d5 3. Nd2 c5 4. exd5 Qxd5 5. dx...  \n",
       "...                                                  ...  \n",
       "48866  1. d4 d5 2. e3 Nf6 3. Nc3 h6 4. Nf3 e6 5. Be2 ...  \n",
       "48867  1. e4 e5 2. Nf3 Nc6 3. Bb5 a6 4. Ba4 Nf6 5. O-...  \n",
       "48868  1. e4 c5 2. Nf3 e6 3. d4 cxd4 4. Nxd4 Nc6 5. N...  \n",
       "48869  1. c4 Nf6 2. Nf3 c5 3. g3 Nc6 4. Bg2 d5 5. O-O...  \n",
       "48870  1. d4 Nf6 2. Nc3 d5 3. Bg5 c6 4. Qd3 Nbd7 5. N...  \n",
       "\n",
       "[48871 rows x 20 columns]"
      ]
     },
     "execution_count": 2,
     "metadata": {},
     "output_type": "execute_result"
    }
   ],
   "source": [
    "df = pd.read_csv('dataset/chess_games.csv')\n",
    "df"
   ]
  },
  {
   "cell_type": "markdown",
   "id": "naval-cheese",
   "metadata": {},
   "source": [
    "## Loading dataset"
   ]
  },
  {
   "cell_type": "markdown",
   "id": "clinical-words",
   "metadata": {},
   "source": [
    "We are only interested in the moves of the games. So, we will remove all other columns except the moves."
   ]
  },
  {
   "cell_type": "code",
   "execution_count": 3,
   "id": "coated-louisiana",
   "metadata": {},
   "outputs": [
    {
     "data": {
      "text/plain": [
       "'Moves'"
      ]
     },
     "execution_count": 3,
     "metadata": {},
     "output_type": "execute_result"
    }
   ],
   "source": [
    "to_remove_cols = list(df.columns)\n",
    "to_remove_cols.pop() #Moves is our last column"
   ]
  },
  {
   "cell_type": "code",
   "execution_count": 4,
   "id": "consecutive-xerox",
   "metadata": {},
   "outputs": [],
   "source": [
    "df = df.drop(columns = to_remove_cols)"
   ]
  },
  {
   "cell_type": "code",
   "execution_count": 5,
   "id": "hollow-contents",
   "metadata": {},
   "outputs": [
    {
     "data": {
      "text/html": [
       "<div>\n",
       "<style scoped>\n",
       "    .dataframe tbody tr th:only-of-type {\n",
       "        vertical-align: middle;\n",
       "    }\n",
       "\n",
       "    .dataframe tbody tr th {\n",
       "        vertical-align: top;\n",
       "    }\n",
       "\n",
       "    .dataframe thead th {\n",
       "        text-align: right;\n",
       "    }\n",
       "</style>\n",
       "<table border=\"1\" class=\"dataframe\">\n",
       "  <thead>\n",
       "    <tr style=\"text-align: right;\">\n",
       "      <th></th>\n",
       "      <th>Moves</th>\n",
       "    </tr>\n",
       "  </thead>\n",
       "  <tbody>\n",
       "    <tr>\n",
       "      <th>0</th>\n",
       "      <td>1. c4 c5 2. Nf3 e6 3. g3 b6 4. Bg2 Bb7 5. O-O ...</td>\n",
       "    </tr>\n",
       "    <tr>\n",
       "      <th>1</th>\n",
       "      <td>1. d4 Nf6 2. Nc3 d5 3. Bg5 Nbd7 4. Nf3 h6 5. B...</td>\n",
       "    </tr>\n",
       "    <tr>\n",
       "      <th>2</th>\n",
       "      <td>1. d4 e6 2. c4 Bb4+ 3. Bd2 Bxd2+ 4. Qxd2 Nf6 5...</td>\n",
       "    </tr>\n",
       "    <tr>\n",
       "      <th>3</th>\n",
       "      <td>1. d4 Nf6 2. Nc3 d5 3. Bg5 e6 4. e4 dxe4 5. Nx...</td>\n",
       "    </tr>\n",
       "    <tr>\n",
       "      <th>4</th>\n",
       "      <td>1. e4 e6 2. d4 d5 3. Nd2 c5 4. exd5 Qxd5 5. dx...</td>\n",
       "    </tr>\n",
       "  </tbody>\n",
       "</table>\n",
       "</div>"
      ],
      "text/plain": [
       "                                               Moves\n",
       "0  1. c4 c5 2. Nf3 e6 3. g3 b6 4. Bg2 Bb7 5. O-O ...\n",
       "1  1. d4 Nf6 2. Nc3 d5 3. Bg5 Nbd7 4. Nf3 h6 5. B...\n",
       "2  1. d4 e6 2. c4 Bb4+ 3. Bd2 Bxd2+ 4. Qxd2 Nf6 5...\n",
       "3  1. d4 Nf6 2. Nc3 d5 3. Bg5 e6 4. e4 dxe4 5. Nx...\n",
       "4  1. e4 e6 2. d4 d5 3. Nd2 c5 4. exd5 Qxd5 5. dx..."
      ]
     },
     "execution_count": 5,
     "metadata": {},
     "output_type": "execute_result"
    }
   ],
   "source": [
    "df.head(5)"
   ]
  },
  {
   "cell_type": "markdown",
   "id": "latter-brave",
   "metadata": {},
   "source": [
    " ## Making a heatmap of one game"
   ]
  },
  {
   "cell_type": "markdown",
   "id": "small-packet",
   "metadata": {},
   "source": [
    "### Function that makes an empty dictionary for each square on a chess board"
   ]
  },
  {
   "cell_type": "code",
   "execution_count": 6,
   "id": "abroad-observer",
   "metadata": {},
   "outputs": [],
   "source": [
    "def squares_dictionary_maker():\n",
    "    dictionary = {}\n",
    "    for i in range(8):\n",
    "        for j in range(8):\n",
    "            square = chr(97+i) + str(j+1)\n",
    "            dictionary[square] = 0\n",
    "            \n",
    "    return dictionary"
   ]
  },
  {
   "cell_type": "code",
   "execution_count": 7,
   "id": "egyptian-control",
   "metadata": {},
   "outputs": [
    {
     "data": {
      "text/plain": [
       "{'a1': 0,\n",
       " 'a2': 0,\n",
       " 'a3': 0,\n",
       " 'a4': 0,\n",
       " 'a5': 0,\n",
       " 'a6': 0,\n",
       " 'a7': 0,\n",
       " 'a8': 0,\n",
       " 'b1': 0,\n",
       " 'b2': 0,\n",
       " 'b3': 0,\n",
       " 'b4': 0,\n",
       " 'b5': 0,\n",
       " 'b6': 0,\n",
       " 'b7': 0,\n",
       " 'b8': 0,\n",
       " 'c1': 0,\n",
       " 'c2': 0,\n",
       " 'c3': 0,\n",
       " 'c4': 0,\n",
       " 'c5': 0,\n",
       " 'c6': 0,\n",
       " 'c7': 0,\n",
       " 'c8': 0,\n",
       " 'd1': 0,\n",
       " 'd2': 0,\n",
       " 'd3': 0,\n",
       " 'd4': 0,\n",
       " 'd5': 0,\n",
       " 'd6': 0,\n",
       " 'd7': 0,\n",
       " 'd8': 0,\n",
       " 'e1': 0,\n",
       " 'e2': 0,\n",
       " 'e3': 0,\n",
       " 'e4': 0,\n",
       " 'e5': 0,\n",
       " 'e6': 0,\n",
       " 'e7': 0,\n",
       " 'e8': 0,\n",
       " 'f1': 0,\n",
       " 'f2': 0,\n",
       " 'f3': 0,\n",
       " 'f4': 0,\n",
       " 'f5': 0,\n",
       " 'f6': 0,\n",
       " 'f7': 0,\n",
       " 'f8': 0,\n",
       " 'g1': 0,\n",
       " 'g2': 0,\n",
       " 'g3': 0,\n",
       " 'g4': 0,\n",
       " 'g5': 0,\n",
       " 'g6': 0,\n",
       " 'g7': 0,\n",
       " 'g8': 0,\n",
       " 'h1': 0,\n",
       " 'h2': 0,\n",
       " 'h3': 0,\n",
       " 'h4': 0,\n",
       " 'h5': 0,\n",
       " 'h6': 0,\n",
       " 'h7': 0,\n",
       " 'h8': 0}"
      ]
     },
     "execution_count": 7,
     "metadata": {},
     "output_type": "execute_result"
    }
   ],
   "source": [
    "squares_dictionary_maker()"
   ]
  },
  {
   "cell_type": "code",
   "execution_count": 8,
   "id": "special-second",
   "metadata": {},
   "outputs": [],
   "source": [
    "sq_dict = squares_dictionary_maker()"
   ]
  },
  {
   "cell_type": "markdown",
   "id": "mathematical-shipping",
   "metadata": {},
   "source": [
    "### A function to fill the above dictionary according to the moves of the game"
   ]
  },
  {
   "cell_type": "markdown",
   "id": "subsequent-emission",
   "metadata": {},
   "source": [
    "The steps included are: <br>\n",
    "1) Splitting the moves of the games. <br>\n",
    "2) Checking the last two characters of a move to check the square to which a move was played. <br>\n",
    "3) In case of short castle (O-O), first of all the color will be checked (if the move is played by white or black). In case of white, the squares of f1 and g1 will be under consideration, and if black has played short castle, f8 and g8 will be checked. (Same checks will be done for long castles as well, where d1 and c1 for white and d8 and c8 for black will be checked.). <br>\n",
    "4) The conditions for checkmates, checks and promotions are checked as well and dictionary is filled accordingly. <br> \n",
    "5) The dictionary created above will be filled according to the square where move was played. For example, if c4 was played, then our's dictionary's key of c4 will be incremented by one. <br>"
   ]
  },
  {
   "cell_type": "code",
   "execution_count": 9,
   "id": "altered-princess",
   "metadata": {},
   "outputs": [],
   "source": [
    "def board_heatmap(moves): #Fills the above created dictionary for \n",
    "    moves = moves.split(' ')\n",
    "    moves = [move for move in moves if move.endswith('.') == False]\n",
    "    for move in moves:\n",
    "        if move.startswith('O-'):\n",
    "            if move == 'O-O':\n",
    "                index = moves.index(move)\n",
    "                if index%2 == 0:\n",
    "                    sq_dict['f1'] = sq_dict['f1'] + 1\n",
    "                    sq_dict['g1'] = sq_dict['g1'] + 1\n",
    "                else:\n",
    "                    sq_dict['f8'] = sq_dict['f8'] + 1\n",
    "                    sq_dict['g8'] = sq_dict['g8'] + 1\n",
    "                moves[index] = ''\n",
    "            elif move == 'O-O-O':\n",
    "                index = moves.index(move)\n",
    "                if index%2 == 0:\n",
    "                    sq_dict['d1'] = sq_dict['d1'] + 1\n",
    "                    sq_dict['c1'] = sq_dict['c1'] + 1\n",
    "                else:\n",
    "                    sq_dict['d8'] = sq_dict['d8'] + 1\n",
    "                    sq_dict['c8'] = sq_dict['c8'] + 1\n",
    "                moves[index] = ''\n",
    "        elif move.endswith('+') or move.endswith('#'):\n",
    "            if str(move[-3]) == '=':\n",
    "                sq_dict[str(move[-5:-3])] = sq_dict[str(move[-5:-3])] + 1\n",
    "            else:\n",
    "                sq_dict[str(move[-3:-1])] = sq_dict[str(move[-3:-1])] + 1\n",
    "        elif move.endswith('Q') or move.endswith('N') or move.endswith('B') or move.endswith('R'):\n",
    "            sq_dict[str(move[-4:-2])] = sq_dict[str(move[-4:-2])] + 1\n",
    "        elif move == '':\n",
    "            continue\n",
    "        else:\n",
    "            sq_dict[str(move[-2:])] = sq_dict[str(move[-2:])] + 1\n",
    "    \n",
    "    return True"
   ]
  },
  {
   "cell_type": "code",
   "execution_count": 10,
   "id": "accessory-livestock",
   "metadata": {},
   "outputs": [
    {
     "name": "stdout",
     "output_type": "stream",
     "text": [
      "1. c4 c5 2. Nf3 e6 3. g3 b6 4. Bg2 Bb7 5. O-O Nf6 6. Nc3 Be7 7. d4 cxd4 8. Qxd4 O-O 9. Rd1 Qc8 10. b3 Na6 11. Bb2 Nc5 12. Ne1 Bxg2 13. Nxg2 d6 14. Ne3 Rd8 15. b4 Ncd7 16. Ne4 Ne8 17. f3 a5 18. b5 f5 19. Nf2 Bf6 20. Qd2 Nc5 21. Nd3 Qc7 22. Bxf6 Nxf6 23. Rac1 Nfd7 24. Ng2 Ne5 25. Qe3 Rac8 26. Ngf4 g5 27. Nxc5 gxf4 28. gxf4 Qxc5 29. Qxc5 Rxc5 30. fxe5 Rxe5 31. Kf2 Rc5 32. Rd4 e5 33. Rh4 f4 34. a3 Kg7 35. Rg4+ Kf6 36. Rcg1 Rxc4 \n"
     ]
    },
    {
     "data": {
      "text/plain": [
       "True"
      ]
     },
     "execution_count": 10,
     "metadata": {},
     "output_type": "execute_result"
    }
   ],
   "source": [
    "test = df['Moves'][0] #Selecting the fourth game of our dataset\n",
    "print(test)\n",
    "board_heatmap(test)"
   ]
  },
  {
   "cell_type": "markdown",
   "id": "structural-headquarters",
   "metadata": {},
   "source": [
    "### Formatting our dictionary"
   ]
  },
  {
   "cell_type": "markdown",
   "id": "selective-puzzle",
   "metadata": {},
   "source": [
    "With our dictionary filled for one game, we are going to format our dictionary in order to make our heatmap. "
   ]
  },
  {
   "cell_type": "markdown",
   "id": "successful-universal",
   "metadata": {},
   "source": [
    "The steps included are: <br>\n",
    "1) Taking the values of our dictionary and making an np.array out of them. <br>\n",
    "2) Reshaping it to make an 8-by-8 2D array. <br>\n",
    "3) Manipulating the rows and columns so that the output heatmap has labels as on a chess board are. For that, we are going to take a transpose and flip our array horizonatally. <br>\n",
    "4) Finally, we will create a dataframe of our 2D array and make a heatmap for it."
   ]
  },
  {
   "cell_type": "code",
   "execution_count": 11,
   "id": "referenced-absence",
   "metadata": {},
   "outputs": [],
   "source": [
    "def dict_formatter(dict):  \n",
    "    square_values = np.array(list(sq_dict.values())) \n",
    "    square_values = square_values.reshape(8, 8)\n",
    "    sq_T = square_values.T\n",
    "    sq_T = np.flip(sq_T, 0)\n",
    "    return sq_T"
   ]
  },
  {
   "cell_type": "code",
   "execution_count": 12,
   "id": "automated-perfume",
   "metadata": {},
   "outputs": [
    {
     "data": {
      "text/html": [
       "<div>\n",
       "<style scoped>\n",
       "    .dataframe tbody tr th:only-of-type {\n",
       "        vertical-align: middle;\n",
       "    }\n",
       "\n",
       "    .dataframe tbody tr th {\n",
       "        vertical-align: top;\n",
       "    }\n",
       "\n",
       "    .dataframe thead th {\n",
       "        text-align: right;\n",
       "    }\n",
       "</style>\n",
       "<table border=\"1\" class=\"dataframe\">\n",
       "  <thead>\n",
       "    <tr style=\"text-align: right;\">\n",
       "      <th></th>\n",
       "      <th>a</th>\n",
       "      <th>b</th>\n",
       "      <th>c</th>\n",
       "      <th>d</th>\n",
       "      <th>e</th>\n",
       "      <th>f</th>\n",
       "      <th>g</th>\n",
       "      <th>h</th>\n",
       "    </tr>\n",
       "  </thead>\n",
       "  <tbody>\n",
       "    <tr>\n",
       "      <th>8</th>\n",
       "      <td>0</td>\n",
       "      <td>0</td>\n",
       "      <td>2</td>\n",
       "      <td>1</td>\n",
       "      <td>1</td>\n",
       "      <td>1</td>\n",
       "      <td>1</td>\n",
       "      <td>0</td>\n",
       "    </tr>\n",
       "    <tr>\n",
       "      <th>7</th>\n",
       "      <td>0</td>\n",
       "      <td>1</td>\n",
       "      <td>1</td>\n",
       "      <td>2</td>\n",
       "      <td>1</td>\n",
       "      <td>0</td>\n",
       "      <td>1</td>\n",
       "      <td>0</td>\n",
       "    </tr>\n",
       "    <tr>\n",
       "      <th>6</th>\n",
       "      <td>1</td>\n",
       "      <td>1</td>\n",
       "      <td>0</td>\n",
       "      <td>1</td>\n",
       "      <td>1</td>\n",
       "      <td>5</td>\n",
       "      <td>0</td>\n",
       "      <td>0</td>\n",
       "    </tr>\n",
       "    <tr>\n",
       "      <th>5</th>\n",
       "      <td>1</td>\n",
       "      <td>1</td>\n",
       "      <td>8</td>\n",
       "      <td>0</td>\n",
       "      <td>4</td>\n",
       "      <td>1</td>\n",
       "      <td>1</td>\n",
       "      <td>0</td>\n",
       "    </tr>\n",
       "    <tr>\n",
       "      <th>4</th>\n",
       "      <td>0</td>\n",
       "      <td>1</td>\n",
       "      <td>2</td>\n",
       "      <td>4</td>\n",
       "      <td>1</td>\n",
       "      <td>4</td>\n",
       "      <td>1</td>\n",
       "      <td>1</td>\n",
       "    </tr>\n",
       "    <tr>\n",
       "      <th>3</th>\n",
       "      <td>1</td>\n",
       "      <td>1</td>\n",
       "      <td>1</td>\n",
       "      <td>1</td>\n",
       "      <td>2</td>\n",
       "      <td>2</td>\n",
       "      <td>1</td>\n",
       "      <td>0</td>\n",
       "    </tr>\n",
       "    <tr>\n",
       "      <th>2</th>\n",
       "      <td>0</td>\n",
       "      <td>1</td>\n",
       "      <td>0</td>\n",
       "      <td>1</td>\n",
       "      <td>0</td>\n",
       "      <td>2</td>\n",
       "      <td>4</td>\n",
       "      <td>0</td>\n",
       "    </tr>\n",
       "    <tr>\n",
       "      <th>1</th>\n",
       "      <td>0</td>\n",
       "      <td>0</td>\n",
       "      <td>1</td>\n",
       "      <td>1</td>\n",
       "      <td>1</td>\n",
       "      <td>1</td>\n",
       "      <td>2</td>\n",
       "      <td>0</td>\n",
       "    </tr>\n",
       "  </tbody>\n",
       "</table>\n",
       "</div>"
      ],
      "text/plain": [
       "   a  b  c  d  e  f  g  h\n",
       "8  0  0  2  1  1  1  1  0\n",
       "7  0  1  1  2  1  0  1  0\n",
       "6  1  1  0  1  1  5  0  0\n",
       "5  1  1  8  0  4  1  1  0\n",
       "4  0  1  2  4  1  4  1  1\n",
       "3  1  1  1  1  2  2  1  0\n",
       "2  0  1  0  1  0  2  4  0\n",
       "1  0  0  1  1  1  1  2  0"
      ]
     },
     "execution_count": 12,
     "metadata": {},
     "output_type": "execute_result"
    }
   ],
   "source": [
    "heatmap_frame = pd.DataFrame(dict_formatter(sq_dict))\n",
    "heatmap_frame.index = ['8', '7', '6', '5', '4', '3', '2', '1']\n",
    "heatmap_frame.columns = ['a', 'b', 'c', 'd', 'e', 'f', 'g', 'h']\n",
    "heatmap_frame"
   ]
  },
  {
   "cell_type": "code",
   "execution_count": 17,
   "id": "turkish-joyce",
   "metadata": {},
   "outputs": [
    {
     "data": {
      "text/plain": [
       "<AxesSubplot:>"
      ]
     },
     "execution_count": 17,
     "metadata": {},
     "output_type": "execute_result"
    },
    {
     "data": {
      "image/png": "[encoded data removed]",
      "text/plain": [
       "<Figure size 720x720 with 2 Axes>"
      ]
     },
     "metadata": {
      "needs_background": "light"
     },
     "output_type": "display_data"
    }
   ],
   "source": [
    "fig, ax = plt.subplots(figsize=(10,10))         # Sample figsize in inches\n",
    "sns.heatmap(heatmap_frame, ax=ax, annot = True, cmap='YlGnBu')"
   ]
  },
  {
   "cell_type": "markdown",
   "id": "cosmetic-teacher",
   "metadata": {},
   "source": [
    "## Making a heatmap for all of our dataset"
   ]
  },
  {
   "cell_type": "markdown",
   "id": "outdoor-philosophy",
   "metadata": {},
   "source": [
    "We are essentially going to apply the above procedure to the complete dataset and produce its heatmap."
   ]
  },
  {
   "cell_type": "code",
   "execution_count": 18,
   "id": "modified-participant",
   "metadata": {},
   "outputs": [],
   "source": [
    "sq_dict = squares_dictionary_maker()"
   ]
  },
  {
   "cell_type": "code",
   "execution_count": 19,
   "id": "flexible-money",
   "metadata": {},
   "outputs": [
    {
     "data": {
      "text/plain": [
       "48871"
      ]
     },
     "execution_count": 19,
     "metadata": {},
     "output_type": "execute_result"
    }
   ],
   "source": [
    "len(np.vectorize(board_heatmap)(df['Moves']))"
   ]
  },
  {
   "cell_type": "code",
   "execution_count": 20,
   "id": "incorrect-atmosphere",
   "metadata": {},
   "outputs": [
    {
     "data": {
      "text/plain": [
       "{'a1': 36008,\n",
       " 'a2': 38694,\n",
       " 'a3': 66675,\n",
       " 'a4': 90009,\n",
       " 'a5': 85859,\n",
       " 'a6': 73940,\n",
       " 'a7': 39174,\n",
       " 'a8': 35926,\n",
       " 'b1': 53756,\n",
       " 'b2': 55112,\n",
       " 'b3': 90455,\n",
       " 'b4': 110368,\n",
       " 'b5': 112309,\n",
       " 'b6': 89661,\n",
       " 'b7': 67145,\n",
       " 'b8': 54705,\n",
       " 'c1': 73774,\n",
       " 'c2': 78962,\n",
       " 'c3': 151070,\n",
       " 'c4': 149483,\n",
       " 'c5': 149943,\n",
       " 'c6': 144574,\n",
       " 'c7': 77384,\n",
       " 'c8': 75278,\n",
       " 'd1': 85187,\n",
       " 'd2': 109339,\n",
       " 'd3': 120177,\n",
       " 'd4': 197088,\n",
       " 'd5': 188763,\n",
       " 'd6': 120956,\n",
       " 'd7': 121574,\n",
       " 'd8': 85496,\n",
       " 'e1': 76217,\n",
       " 'e2': 102979,\n",
       " 'e3': 130061,\n",
       " 'e4': 167520,\n",
       " 'e5': 168236,\n",
       " 'e6': 130623,\n",
       " 'e7': 120876,\n",
       " 'e8': 78997,\n",
       " 'f1': 98321,\n",
       " 'f2': 71350,\n",
       " 'f3': 164943,\n",
       " 'f4': 124506,\n",
       " 'f5': 120864,\n",
       " 'f6': 178985,\n",
       " 'f7': 73102,\n",
       " 'f8': 104091,\n",
       " 'g1': 83047,\n",
       " 'g2': 71838,\n",
       " 'g3': 94474,\n",
       " 'g4': 104055,\n",
       " 'g5': 116651,\n",
       " 'g6': 94983,\n",
       " 'g7': 72907,\n",
       " 'g8': 87797,\n",
       " 'h1': 34668,\n",
       " 'h2': 43847,\n",
       " 'h3': 68630,\n",
       " 'h4': 83582,\n",
       " 'h5': 82812,\n",
       " 'h6': 74894,\n",
       " 'h7': 48280,\n",
       " 'h8': 38737}"
      ]
     },
     "execution_count": 20,
     "metadata": {},
     "output_type": "execute_result"
    }
   ],
   "source": [
    "sq_dict"
   ]
  },
  {
   "cell_type": "code",
   "execution_count": 21,
   "id": "driven-lingerie",
   "metadata": {},
   "outputs": [
    {
     "data": {
      "text/plain": [
       "<AxesSubplot:>"
      ]
     },
     "execution_count": 21,
     "metadata": {},
     "output_type": "execute_result"
    },
    {
     "data": {
      "image/png": "[encoded data removed]",
      "text/plain": [
       "<Figure size 720x720 with 2 Axes>"
      ]
     },
     "metadata": {
      "needs_background": "light"
     },
     "output_type": "display_data"
    }
   ],
   "source": [
    "heatmap_frame = pd.DataFrame(dict_formatter(sq_dict))\n",
    "heatmap_frame.index = ['8', '7', '6', '5', '4', '3', '2', '1']\n",
    "heatmap_frame.columns = ['a', 'b', 'c', 'd', 'e', 'f', 'g', 'h']\n",
    "\n",
    "fig, ax = plt.subplots(figsize=(10,10))\n",
    "sns.heatmap(heatmap_frame, ax=ax, annot = True, cmap='YlGnBu')"
   ]
  },
  {
   "cell_type": "code",
   "execution_count": 25,
   "id": "sought-authentication",
   "metadata": {},
   "outputs": [],
   "source": [
    "def piece_heatmap(piece, moves):\n",
    "    moves = moves.split(' ')\n",
    "    if piece == 'knight':\n",
    "        moves = [move for move in moves if (move.startswith('N') == True)]\n",
    "    elif piece == 'bishop':\n",
    "        moves = [move for move in moves if (move.startswith('B') == True)]\n",
    "    elif piece == 'rook':\n",
    "        moves = [move for move in moves if (move.startswith('R') == True)]\n",
    "    elif piece == 'king':\n",
    "        moves = [move for move in moves if (move.startswith('K') == True)]\n",
    "    elif piece == 'queen':\n",
    "        moves = [move for move in moves if (move.startswith('Q') == True)]\n",
    "    moves = ' '.join(moves)\n",
    "    x = board_heatmap(moves)\n",
    "    return True"
   ]
  },
  {
   "cell_type": "code",
   "execution_count": 29,
   "id": "democratic-damage",
   "metadata": {},
   "outputs": [
    {
     "data": {
      "text/plain": [
       "<AxesSubplot:>"
      ]
     },
     "execution_count": 29,
     "metadata": {},
     "output_type": "execute_result"
    },
    {
     "data": {
      "image/png": "[encoded data removed]",
      "text/plain": [
       "<Figure size 720x720 with 2 Axes>"
      ]
     },
     "metadata": {
      "needs_background": "light"
     },
     "output_type": "display_data"
    }
   ],
   "source": [
    "sq_dict = squares_dictionary_maker()\n",
    "np.vectorize(piece_heatmap)('queen', df['Moves'])\n",
    "heatmap_frame = pd.DataFrame(dict_formatter(sq_dict))\n",
    "heatmap_frame.index = ['8', '7', '6', '5', '4', '3', '2', '1']\n",
    "heatmap_frame.columns = ['a', 'b', 'c', 'd', 'e', 'f', 'g', 'h']\n",
    "\n",
    "fig, ax = plt.subplots(figsize=(10,10))\n",
    "sns.heatmap(heatmap_frame, ax=ax, annot = True, cmap='YlGnBu')"
   ]
  },
  {
   "cell_type": "code",
   "execution_count": null,
   "id": "productive-gallery",
   "metadata": {},
   "outputs": [],
   "source": []
  }
 ],
 "metadata": {
  "kernelspec": {
   "display_name": "Python 3",
   "language": "python",
   "name": "python3"
  },
  "language_info": {
   "codemirror_mode": {
    "name": "ipython",
    "version": 3
   },
   "file_extension": ".py",
   "mimetype": "text/x-python",
   "name": "python",
   "nbconvert_exporter": "python",
   "pygments_lexer": "ipython3",
   "version": "3.9.2"
  }
 },
 "nbformat": 4,
 "nbformat_minor": 5
}
