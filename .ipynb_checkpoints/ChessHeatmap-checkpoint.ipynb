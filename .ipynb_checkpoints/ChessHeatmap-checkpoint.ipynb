{
 "cells": [
  {
   "cell_type": "markdown",
   "id": "standard-safety",
   "metadata": {},
   "source": [
    "# Chess Heatmap Project"
   ]
  },
  {
   "cell_type": "markdown",
   "id": "brutal-reasoning",
   "metadata": {},
   "source": [
    "## Importing Libraries"
   ]
  },
  {
   "cell_type": "markdown",
   "id": "expressed-drove",
   "metadata": {},
   "source": [
    "Pandas to read data and edit data\n",
    "<br>\n",
    "Numpy to manipulate rows and columns\n",
    "<br>\n",
    "Seaborn for the heatmap\n",
    "<br>\n",
    "Matplotlib to manage the plots"
   ]
  },
  {
   "cell_type": "code",
   "execution_count": 181,
   "id": "loaded-destiny",
   "metadata": {},
   "outputs": [],
   "source": [
    "import pandas as pd\n",
    "import numpy as np\n",
    "import seaborn as sns\n",
    "import matplotlib.pyplot as plt\n"
   ]
  },
  {
   "cell_type": "code",
   "execution_count": 182,
   "id": "saved-daisy",
   "metadata": {},
   "outputs": [],
   "source": [
    "df = pd.read_csv('dataset/chess_games.csv')"
   ]
  },
  {
   "cell_type": "markdown",
   "id": "nasty-department",
   "metadata": {},
   "source": [
    "## Loading dataset"
   ]
  },
  {
   "cell_type": "markdown",
   "id": "grateful-awareness",
   "metadata": {},
   "source": [
    "We are only interested in the moves of the games. So, we will remove all other columns except the moves."
   ]
  },
  {
   "cell_type": "code",
   "execution_count": 184,
   "id": "coated-louisiana",
   "metadata": {},
   "outputs": [
    {
     "data": {
      "text/plain": [
       "'Moves'"
      ]
     },
     "execution_count": 184,
     "metadata": {},
     "output_type": "execute_result"
    }
   ],
   "source": [
    "to_remove_cols = list(df.columns)\n",
    "to_remove_cols.pop() #Moves is our last column"
   ]
  },
  {
   "cell_type": "code",
   "execution_count": 185,
   "id": "consecutive-xerox",
   "metadata": {},
   "outputs": [],
   "source": [
    "df = df.drop(columns = to_remove_cols)"
   ]
  },
  {
   "cell_type": "code",
   "execution_count": 188,
   "id": "hollow-contents",
   "metadata": {},
   "outputs": [
    {
     "data": {
      "text/html": [
       "<div>\n",
       "<style scoped>\n",
       "    .dataframe tbody tr th:only-of-type {\n",
       "        vertical-align: middle;\n",
       "    }\n",
       "\n",
       "    .dataframe tbody tr th {\n",
       "        vertical-align: top;\n",
       "    }\n",
       "\n",
       "    .dataframe thead th {\n",
       "        text-align: right;\n",
       "    }\n",
       "</style>\n",
       "<table border=\"1\" class=\"dataframe\">\n",
       "  <thead>\n",
       "    <tr style=\"text-align: right;\">\n",
       "      <th></th>\n",
       "      <th>Moves</th>\n",
       "    </tr>\n",
       "  </thead>\n",
       "  <tbody>\n",
       "    <tr>\n",
       "      <th>38865</th>\n",
       "      <td>1. d4 d5 2. c4 e6 3. Nc3 c5 4. cxd5 cxd4 5. Qa...</td>\n",
       "    </tr>\n",
       "    <tr>\n",
       "      <th>36584</th>\n",
       "      <td>1. d4 Nf6 2. Nf3 d5 3. c4 c6 4. Nc3 dxc4 5. a4...</td>\n",
       "    </tr>\n",
       "    <tr>\n",
       "      <th>7371</th>\n",
       "      <td>1. e4 Nh6 2. Nc3 e6 3. d4 Bb4 4. Bxh6 Bxc3+ 5....</td>\n",
       "    </tr>\n",
       "    <tr>\n",
       "      <th>47407</th>\n",
       "      <td>1. e4 e5 2. Nf3 Nc6 3. Bb5 a6 4. Ba4 Nf6 5. O-...</td>\n",
       "    </tr>\n",
       "    <tr>\n",
       "      <th>39772</th>\n",
       "      <td>1. d4 Nf6 2. c4 e6 3. Nf3 d5 4. Nc3 c6 5. Bg5 ...</td>\n",
       "    </tr>\n",
       "  </tbody>\n",
       "</table>\n",
       "</div>"
      ],
      "text/plain": [
       "                                                   Moves\n",
       "38865  1. d4 d5 2. c4 e6 3. Nc3 c5 4. cxd5 cxd4 5. Qa...\n",
       "36584  1. d4 Nf6 2. Nf3 d5 3. c4 c6 4. Nc3 dxc4 5. a4...\n",
       "7371   1. e4 Nh6 2. Nc3 e6 3. d4 Bb4 4. Bxh6 Bxc3+ 5....\n",
       "47407  1. e4 e5 2. Nf3 Nc6 3. Bb5 a6 4. Ba4 Nf6 5. O-...\n",
       "39772  1. d4 Nf6 2. c4 e6 3. Nf3 d5 4. Nc3 c6 5. Bg5 ..."
      ]
     },
     "execution_count": 188,
     "metadata": {},
     "output_type": "execute_result"
    }
   ],
   "source": [
    "df.sample(n=5)"
   ]
  },
  {
   "cell_type": "markdown",
   "id": "intimate-thinking",
   "metadata": {},
   "source": [
    " ## Making a heatmap of one game"
   ]
  },
  {
   "cell_type": "markdown",
   "id": "overhead-happening",
   "metadata": {},
   "source": [
    "### Function that makes an empty dictionary for each square on a chess board"
   ]
  },
  {
   "cell_type": "code",
   "execution_count": 189,
   "id": "abroad-observer",
   "metadata": {},
   "outputs": [],
   "source": [
    "def squares_dictionary_maker():\n",
    "    dictionary = {}\n",
    "    for i in range(8):\n",
    "        for j in range(8):\n",
    "            square = chr(97+i) + str(j+1)\n",
    "            dictionary[square] = 0\n",
    "            \n",
    "    return dictionary"
   ]
  },
  {
   "cell_type": "code",
   "execution_count": 190,
   "id": "working-badge",
   "metadata": {},
   "outputs": [
    {
     "data": {
      "text/plain": [
       "{'a1': 0,\n",
       " 'a2': 0,\n",
       " 'a3': 0,\n",
       " 'a4': 0,\n",
       " 'a5': 0,\n",
       " 'a6': 0,\n",
       " 'a7': 0,\n",
       " 'a8': 0,\n",
       " 'b1': 0,\n",
       " 'b2': 0,\n",
       " 'b3': 0,\n",
       " 'b4': 0,\n",
       " 'b5': 0,\n",
       " 'b6': 0,\n",
       " 'b7': 0,\n",
       " 'b8': 0,\n",
       " 'c1': 0,\n",
       " 'c2': 0,\n",
       " 'c3': 0,\n",
       " 'c4': 0,\n",
       " 'c5': 0,\n",
       " 'c6': 0,\n",
       " 'c7': 0,\n",
       " 'c8': 0,\n",
       " 'd1': 0,\n",
       " 'd2': 0,\n",
       " 'd3': 0,\n",
       " 'd4': 0,\n",
       " 'd5': 0,\n",
       " 'd6': 0,\n",
       " 'd7': 0,\n",
       " 'd8': 0,\n",
       " 'e1': 0,\n",
       " 'e2': 0,\n",
       " 'e3': 0,\n",
       " 'e4': 0,\n",
       " 'e5': 0,\n",
       " 'e6': 0,\n",
       " 'e7': 0,\n",
       " 'e8': 0,\n",
       " 'f1': 0,\n",
       " 'f2': 0,\n",
       " 'f3': 0,\n",
       " 'f4': 0,\n",
       " 'f5': 0,\n",
       " 'f6': 0,\n",
       " 'f7': 0,\n",
       " 'f8': 0,\n",
       " 'g1': 0,\n",
       " 'g2': 0,\n",
       " 'g3': 0,\n",
       " 'g4': 0,\n",
       " 'g5': 0,\n",
       " 'g6': 0,\n",
       " 'g7': 0,\n",
       " 'g8': 0,\n",
       " 'h1': 0,\n",
       " 'h2': 0,\n",
       " 'h3': 0,\n",
       " 'h4': 0,\n",
       " 'h5': 0,\n",
       " 'h6': 0,\n",
       " 'h7': 0,\n",
       " 'h8': 0}"
      ]
     },
     "execution_count": 190,
     "metadata": {},
     "output_type": "execute_result"
    }
   ],
   "source": [
    "squares_dictionary_maker()"
   ]
  },
  {
   "cell_type": "code",
   "execution_count": 194,
   "id": "special-second",
   "metadata": {},
   "outputs": [],
   "source": [
    "sq_dict = squares_dictionary_maker()"
   ]
  },
  {
   "cell_type": "markdown",
   "id": "israeli-vanilla",
   "metadata": {},
   "source": [
    "### A function to fill the above dictionary according to the moves of the game"
   ]
  },
  {
   "cell_type": "markdown",
   "id": "above-vinyl",
   "metadata": {},
   "source": [
    "The steps included are: <br>\n",
    "1) Splitting the moves of the games. <br>\n",
    "2) Checking the last two characters of a move to check the square to which a move was played. <br>\n",
    "3) In case of short castle (O-O), first of all the color will be checked (if the move is played by white or black). In case of white, the squares of f1 and g1 will be under consideration, and if black has played short castle, f8 and g8 will be checked. (Same checks will be done for long castles as well, where d1 and c1 for white and d8 and c8 for black will be checked.). <br>\n",
    "4) The dictionary created above will be filled according to the square where move was played. For example, if c4 was played, then our's dictionary's key of c4 will be incremented by one. <br>"
   ]
  },
  {
   "cell_type": "code",
   "execution_count": 213,
   "id": "altered-princess",
   "metadata": {},
   "outputs": [],
   "source": [
    "def board_heatmap(moves): #Fills the above created dictionary for \n",
    "    print(moves)\n",
    "    moves = moves.split(' ')\n",
    "    moves = [move for move in moves if move.endswith('.') == False]\n",
    "    for move in moves:\n",
    "        if move.startswith('O-'):\n",
    "            if move == 'O-O':\n",
    "                index = moves.index(move)\n",
    "                if index%2 == 0:\n",
    "                    sq_dict['f1'] = sq_dict['f1'] + 1\n",
    "                    sq_dict['g1'] = sq_dict['g1'] + 1\n",
    "                else:\n",
    "                    sq_dict['f8'] = sq_dict['f8'] + 1\n",
    "                    sq_dict['g8'] = sq_dict['g8'] + 1\n",
    "                moves[index] = ''\n",
    "            elif move == 'O-O-O':\n",
    "                index = moves.index(move)\n",
    "                if index%2 == 0:\n",
    "                    sq_dict['d1'] = sq_dict['d1'] + 1\n",
    "                    sq_dict['c1'] = sq_dict['c1'] + 1\n",
    "                else:\n",
    "                    sq_dict['d8'] = sq_dict['d8'] + 1\n",
    "                    sq_dict['c8'] = sq_dict['c8'] + 1\n",
    "                moves[index] = ''\n",
    "        elif move.endswith('+') or move.endswith('#'):\n",
    "            if str(move[-3:-2]) == '=':\n",
    "                sq_dict[str]\n",
    "            sq_dict[str(move[-3:-1])] = sq_dict[str(move[-3:-1])] + 1\n",
    "        elif move.endswith('Q') or move.endswith('N') or move.endswith('B') or move.endswith('R'):\n",
    "            sq_dict[str(move[-4:-2])] = sq_dict[str(move[-4:-2])] + 1\n",
    "        elif move == '':\n",
    "            continue\n",
    "        else:\n",
    "            sq_dict[str(move[-2:])] = sq_dict[str(move[-2:])] + 1\n",
    "    print(sq_dict)"
   ]
  },
  {
   "cell_type": "code",
   "execution_count": 195,
   "id": "accessory-livestock",
   "metadata": {},
   "outputs": [
    {
     "name": "stdout",
     "output_type": "stream",
     "text": [
      "['d4', 'Nf6', 'Nc3', 'd5', 'Bg5', 'e6', 'e4', 'dxe4', 'Nxe4', 'Be7', 'Bxf6', 'Bxf6', 'Nf3', 'O-O', 'Qd2', 'Nd7', 'Bd3', 'e5', 'Nxf6+', 'Qxf6', 'Ng5', 'g6', 'Ne4', 'Qc6', 'O-O-O', 'exd4', 'Rhe1', 'Nc5', 'Qh6', 'Nxe4', 'Rxe4', 'Qf6', 'Rh4', 'Qg7', 'Qxg7+', 'Kxg7', 'Rxd4', 'Be6', 'Be4', 'c6', 'Rb4', 'Rfb8', 'b3', 'a5', 'Ra4', 'Ra6', 'Rd6', 'b5', 'Rad4', 'Rbb6', 'Rd8', 'c5', 'Rd3', 'c4', 'Rd1', 'h5', 'R1d4', 'cxb3', 'cxb3', 'b4', 'Kc2', 'a4', 'Kb2', 'axb3', 'axb3', 'Ra3', 'Bc2', 'Rba6', 'Rxb4', 'Ra2+', 'Kc1', 'Ra1+', 'Kd2', 'R6a2', 'Ra4', 'Bf5', 'Rxa2', 'Rxa2', 'Rd3', 'Bxd3', 'Kxd3', 'h4', 'Kc3', 'Kf6', 'f4', 'Ke7', 'b4', 'f5', 'h3', 'Kd6', 'Kd2', 'Ra3', 'Bd1', 'Kd5', 'b5', 'Kc5', 'Be2', 'Rb3', 'Kc2', 'Rb4', 'Kd2', 'Rxf4', 'Ke3', 'Rb4', 'Kd2', 'Rb3', 'Kc2', 'Rg3', 'Bf1', 'g5', 'Kd2', 'g4', 'Ke1', 'Rb3', 'Kd2', 'Rb1', 'Bd3', 'Rb2+', 'Ke1', 'Rxg2', 'Bxf5', 'g3', 'Bh7', 'Rh2', 'Be4', 'Rxh3', 'b6', 'Kxb6', '']\n",
      "{'a1': 1, 'a2': 4, 'a3': 2, 'a4': 3, 'a5': 1, 'a6': 2, 'a7': 0, 'a8': 0, 'b1': 1, 'b2': 2, 'b3': 8, 'b4': 6, 'b5': 2, 'b6': 3, 'b7': 0, 'b8': 1, 'c1': 2, 'c2': 4, 'c3': 2, 'c4': 1, 'c5': 3, 'c6': 2, 'c7': 0, 'c8': 0, 'd1': 3, 'd2': 7, 'd3': 6, 'd4': 5, 'd5': 2, 'd6': 2, 'd7': 1, 'd8': 1, 'e1': 3, 'e2': 1, 'e3': 1, 'e4': 8, 'e5': 1, 'e6': 2, 'e7': 2, 'e8': 0, 'f1': 1, 'f2': 0, 'f3': 1, 'f4': 2, 'f5': 3, 'f6': 7, 'f7': 0, 'f8': 1, 'g1': 0, 'g2': 1, 'g3': 2, 'g4': 1, 'g5': 3, 'g6': 1, 'g7': 3, 'g8': 1, 'h1': 0, 'h2': 1, 'h3': 2, 'h4': 2, 'h5': 1, 'h6': 1, 'h7': 1, 'h8': 0}\n"
     ]
    }
   ],
   "source": [
    "test = df['Moves'][3] #Selecting the fourth game of our dataset\n",
    "board_heatmap(test)"
   ]
  },
  {
   "cell_type": "markdown",
   "id": "surprising-customs",
   "metadata": {},
   "source": [
    "### Formatting our dictionary"
   ]
  },
  {
   "cell_type": "markdown",
   "id": "vanilla-karen",
   "metadata": {},
   "source": [
    "With our dictionary filled for one game, we are going to format our dictionary in order to make our heatmap. "
   ]
  },
  {
   "cell_type": "markdown",
   "id": "preceding-malta",
   "metadata": {},
   "source": [
    "The steps included are: <br>\n",
    "1) Taking the values of our dictionary and making an np.array out of them. <br>\n",
    "2) Reshaping it to make an 8-by-8 2D array. <br>\n",
    "3) Manipulating the rows and columns so that the output heatmap has labels as on a chess board are. For that, we are going to take a transpose and flip our array horizonatally. <br>\n",
    "4) Finally, we will create a dataframe of our 2D array and make a heatmap for it."
   ]
  },
  {
   "cell_type": "code",
   "execution_count": 197,
   "id": "referenced-absence",
   "metadata": {},
   "outputs": [],
   "source": [
    "def dict_formatter(dict):  \n",
    "    square_values = np.array(list(sq_dict.values())) \n",
    "    square_values = square_values.reshape(8, 8)\n",
    "    sq_T = square_values.T\n",
    "    sq_T = np.flip(sq_T, 0)\n",
    "    return sq_T"
   ]
  },
  {
   "cell_type": "code",
   "execution_count": 202,
   "id": "short-federation",
   "metadata": {},
   "outputs": [
    {
     "data": {
      "text/html": [
       "<div>\n",
       "<style scoped>\n",
       "    .dataframe tbody tr th:only-of-type {\n",
       "        vertical-align: middle;\n",
       "    }\n",
       "\n",
       "    .dataframe tbody tr th {\n",
       "        vertical-align: top;\n",
       "    }\n",
       "\n",
       "    .dataframe thead th {\n",
       "        text-align: right;\n",
       "    }\n",
       "</style>\n",
       "<table border=\"1\" class=\"dataframe\">\n",
       "  <thead>\n",
       "    <tr style=\"text-align: right;\">\n",
       "      <th></th>\n",
       "      <th>a</th>\n",
       "      <th>b</th>\n",
       "      <th>c</th>\n",
       "      <th>d</th>\n",
       "      <th>e</th>\n",
       "      <th>f</th>\n",
       "      <th>g</th>\n",
       "      <th>h</th>\n",
       "    </tr>\n",
       "  </thead>\n",
       "  <tbody>\n",
       "    <tr>\n",
       "      <th>8</th>\n",
       "      <td>0</td>\n",
       "      <td>1</td>\n",
       "      <td>0</td>\n",
       "      <td>1</td>\n",
       "      <td>0</td>\n",
       "      <td>1</td>\n",
       "      <td>1</td>\n",
       "      <td>0</td>\n",
       "    </tr>\n",
       "    <tr>\n",
       "      <th>7</th>\n",
       "      <td>0</td>\n",
       "      <td>0</td>\n",
       "      <td>0</td>\n",
       "      <td>1</td>\n",
       "      <td>2</td>\n",
       "      <td>0</td>\n",
       "      <td>3</td>\n",
       "      <td>1</td>\n",
       "    </tr>\n",
       "    <tr>\n",
       "      <th>6</th>\n",
       "      <td>2</td>\n",
       "      <td>3</td>\n",
       "      <td>2</td>\n",
       "      <td>2</td>\n",
       "      <td>2</td>\n",
       "      <td>7</td>\n",
       "      <td>1</td>\n",
       "      <td>1</td>\n",
       "    </tr>\n",
       "    <tr>\n",
       "      <th>5</th>\n",
       "      <td>1</td>\n",
       "      <td>2</td>\n",
       "      <td>3</td>\n",
       "      <td>2</td>\n",
       "      <td>1</td>\n",
       "      <td>3</td>\n",
       "      <td>3</td>\n",
       "      <td>1</td>\n",
       "    </tr>\n",
       "    <tr>\n",
       "      <th>4</th>\n",
       "      <td>3</td>\n",
       "      <td>6</td>\n",
       "      <td>1</td>\n",
       "      <td>5</td>\n",
       "      <td>8</td>\n",
       "      <td>2</td>\n",
       "      <td>1</td>\n",
       "      <td>2</td>\n",
       "    </tr>\n",
       "    <tr>\n",
       "      <th>3</th>\n",
       "      <td>2</td>\n",
       "      <td>8</td>\n",
       "      <td>2</td>\n",
       "      <td>6</td>\n",
       "      <td>1</td>\n",
       "      <td>1</td>\n",
       "      <td>2</td>\n",
       "      <td>2</td>\n",
       "    </tr>\n",
       "    <tr>\n",
       "      <th>2</th>\n",
       "      <td>4</td>\n",
       "      <td>2</td>\n",
       "      <td>4</td>\n",
       "      <td>7</td>\n",
       "      <td>1</td>\n",
       "      <td>0</td>\n",
       "      <td>1</td>\n",
       "      <td>1</td>\n",
       "    </tr>\n",
       "    <tr>\n",
       "      <th>1</th>\n",
       "      <td>1</td>\n",
       "      <td>1</td>\n",
       "      <td>2</td>\n",
       "      <td>3</td>\n",
       "      <td>3</td>\n",
       "      <td>1</td>\n",
       "      <td>0</td>\n",
       "      <td>0</td>\n",
       "    </tr>\n",
       "  </tbody>\n",
       "</table>\n",
       "</div>"
      ],
      "text/plain": [
       "   a  b  c  d  e  f  g  h\n",
       "8  0  1  0  1  0  1  1  0\n",
       "7  0  0  0  1  2  0  3  1\n",
       "6  2  3  2  2  2  7  1  1\n",
       "5  1  2  3  2  1  3  3  1\n",
       "4  3  6  1  5  8  2  1  2\n",
       "3  2  8  2  6  1  1  2  2\n",
       "2  4  2  4  7  1  0  1  1\n",
       "1  1  1  2  3  3  1  0  0"
      ]
     },
     "execution_count": 202,
     "metadata": {},
     "output_type": "execute_result"
    }
   ],
   "source": [
    "heatmap_frame = pd.DataFrame(dict_formatter(sq_dict))\n",
    "heatmap_frame.index = ['8', '7', '6', '5', '4', '3', '2', '1']\n",
    "heatmap_frame.columns = ['a', 'b', 'c', 'd', 'e', 'f', 'g', 'h']\n",
    "heatmap_frame"
   ]
  },
  {
   "cell_type": "code",
   "execution_count": 203,
   "id": "otherwise-chambers",
   "metadata": {},
   "outputs": [
    {
     "data": {
      "text/plain": [
       "<AxesSubplot:>"
      ]
     },
     "execution_count": 203,
     "metadata": {},
     "output_type": "execute_result"
    },
    {
     "data": {
      "image/png": "[encoded data removed]",
      "text/plain": [
       "<Figure size 720x720 with 2 Axes>"
      ]
     },
     "metadata": {
      "needs_background": "light"
     },
     "output_type": "display_data"
    }
   ],
   "source": [
    "fig, ax = plt.subplots(figsize=(10,10))         # Sample figsize in inches\n",
    "sns.heatmap(heatmap_frame, ax=ax, cmap='YlGnBu')"
   ]
  },
  {
   "cell_type": "markdown",
   "id": "incoming-order",
   "metadata": {},
   "source": [
    "## Making a heatmap for all of our dataset"
   ]
  },
  {
   "cell_type": "code",
   "execution_count": 204,
   "id": "dedicated-henry",
   "metadata": {},
   "outputs": [],
   "source": [
    "sq_dict = squares_dictionary_maker()"
   ]
  },
  {
   "cell_type": "code",
   "execution_count": 214,
   "id": "historical-china",
   "metadata": {},
   "outputs": [
    {
     "name": "stdout",
     "output_type": "stream",
     "text": [
      "1. c4 c5 2. Nf3 e6 3. g3 b6 4. Bg2 Bb7 5. O-O Nf6 6. Nc3 Be7 7. d4 cxd4 8. Qxd4 O-O 9. Rd1 Qc8 10. b3 Na6 11. Bb2 Nc5 12. Ne1 Bxg2 13. Nxg2 d6 14. Ne3 Rd8 15. b4 Ncd7 16. Ne4 Ne8 17. f3 a5 18. b5 f5 19. Nf2 Bf6 20. Qd2 Nc5 21. Nd3 Qc7 22. Bxf6 Nxf6 23. Rac1 Nfd7 24. Ng2 Ne5 25. Qe3 Rac8 26. Ngf4 g5 27. Nxc5 gxf4 28. gxf4 Qxc5 29. Qxc5 Rxc5 30. fxe5 Rxe5 31. Kf2 Rc5 32. Rd4 e5 33. Rh4 f4 34. a3 Kg7 35. Rg4+ Kf6 36. Rcg1 Rxc4 \n",
      "{'a1': 9, 'a2': 20, 'a3': 39, 'a4': 34, 'a5': 55, 'a6': 34, 'a7': 15, 'a8': 16, 'b1': 34, 'b2': 37, 'b3': 61, 'b4': 66, 'b5': 43, 'b6': 46, 'b7': 26, 'b8': 12, 'c1': 47, 'c2': 30, 'c3': 57, 'c4': 73, 'c5': 142, 'c6': 44, 'c7': 40, 'c8': 49, 'd1': 50, 'd2': 73, 'd3': 65, 'd4': 105, 'd5': 90, 'd6': 50, 'd7': 64, 'd8': 27, 'e1': 36, 'e2': 48, 'e3': 60, 'e4': 83, 'e5': 87, 'e6': 62, 'e7': 37, 'e8': 34, 'f1': 43, 'f2': 32, 'f3': 74, 'f4': 81, 'f5': 51, 'f6': 138, 'f7': 29, 'f8': 51, 'g1': 45, 'g2': 51, 'g3': 34, 'g4': 29, 'g5': 68, 'g6': 30, 'g7': 34, 'g8': 43, 'h1': 15, 'h2': 22, 'h3': 19, 'h4': 30, 'h5': 46, 'h6': 27, 'h7': 18, 'h8': 10}\n",
      "1. c4 c5 2. Nf3 e6 3. g3 b6 4. Bg2 Bb7 5. O-O Nf6 6. Nc3 Be7 7. d4 cxd4 8. Qxd4 O-O 9. Rd1 Qc8 10. b3 Na6 11. Bb2 Nc5 12. Ne1 Bxg2 13. Nxg2 d6 14. Ne3 Rd8 15. b4 Ncd7 16. Ne4 Ne8 17. f3 a5 18. b5 f5 19. Nf2 Bf6 20. Qd2 Nc5 21. Nd3 Qc7 22. Bxf6 Nxf6 23. Rac1 Nfd7 24. Ng2 Ne5 25. Qe3 Rac8 26. Ngf4 g5 27. Nxc5 gxf4 28. gxf4 Qxc5 29. Qxc5 Rxc5 30. fxe5 Rxe5 31. Kf2 Rc5 32. Rd4 e5 33. Rh4 f4 34. a3 Kg7 35. Rg4+ Kf6 36. Rcg1 Rxc4 \n",
      "{'a1': 9, 'a2': 20, 'a3': 40, 'a4': 34, 'a5': 56, 'a6': 35, 'a7': 15, 'a8': 16, 'b1': 34, 'b2': 38, 'b3': 62, 'b4': 67, 'b5': 44, 'b6': 47, 'b7': 27, 'b8': 12, 'c1': 48, 'c2': 30, 'c3': 58, 'c4': 75, 'c5': 150, 'c6': 44, 'c7': 41, 'c8': 51, 'd1': 51, 'd2': 74, 'd3': 66, 'd4': 109, 'd5': 90, 'd6': 51, 'd7': 66, 'd8': 28, 'e1': 37, 'e2': 48, 'e3': 62, 'e4': 84, 'e5': 91, 'e6': 63, 'e7': 38, 'e8': 35, 'f1': 44, 'f2': 34, 'f3': 76, 'f4': 85, 'f5': 52, 'f6': 143, 'f7': 29, 'f8': 52, 'g1': 47, 'g2': 55, 'g3': 35, 'g4': 30, 'g5': 69, 'g6': 30, 'g7': 35, 'g8': 44, 'h1': 15, 'h2': 22, 'h3': 19, 'h4': 31, 'h5': 46, 'h6': 27, 'h7': 18, 'h8': 10}\n",
      "1. d4 Nf6 2. Nc3 d5 3. Bg5 Nbd7 4. Nf3 h6 5. Bf4 e6 6. Nb5 Bb4+ 7. c3 Ba5 8. e3 a6 9. Na3 O-O 10. Be2 c5 11. O-O Bc7 12. Bxc7 Qxc7 13. c4 b6 14. cxd5 exd5 15. b3 Qd6 16. dxc5 bxc5 17. Rc1 Bb7 18. Nc4 Qc7 19. Nb2 Rac8 20. Na4 Rfe8 21. Nxc5 Nxc5 22. b4 Nfe4 23. bxc5 Nxc5 24. Nd4 Qe5 25. Qd2 Ne6 26. Nxe6 Qxe6 27. Rb1 Ba8 28. Rb2 a5 29. Qxa5 d4 30. exd4 Red8 31. Rd1 Bc6 32. Qe5 Qd7 33. h3 Bd5 34. Bb5 Qb7 35. f3 Ra8 36. Rdd2 f6 37. Qf5 Rac8 38. Rb1 Qa7 39. a4 Rc3 40. Kh1 Bf7 41. d5 Qc5 42. Rbd1 Rc1 43. Bc6 h5 44. Qe4 Rc3 45. Qe1 Qd6 46. a5 Qc5 47. a6 Ra3 48. Bb7 Qd6 49. Qf2 Qd7 50. d6 Qb5 51. Rc1 Qa5 52. d7 Kh7 53. Rc8 Kg8 54. a7 Ra1+ 55. Kh2 Kh7 56. Be4+ Bg6 57. Rd5 Qxa7 58. Rxh5+ Kg8 59. Bd5+ Kf8 60. Rh8+ Ke7 61. Qe2+ Qe3 62. Qxe3+ Be4 63. Qxe4+ Kd6 64. Qe6# \n",
      "{'a1': 10, 'a2': 20, 'a3': 42, 'a4': 36, 'a5': 61, 'a6': 37, 'a7': 18, 'a8': 18, 'b1': 36, 'b2': 40, 'b3': 63, 'b4': 69, 'b5': 47, 'b6': 48, 'b7': 30, 'b8': 12, 'c1': 51, 'c2': 30, 'c3': 62, 'c4': 77, 'c5': 159, 'c6': 46, 'c7': 45, 'c8': 54, 'd1': 53, 'd2': 76, 'd3': 66, 'd4': 113, 'd5': 97, 'd6': 56, 'd7': 70, 'd8': 29, 'e1': 38, 'e2': 50, 'e3': 65, 'e4': 89, 'e5': 93, 'e6': 68, 'e7': 39, 'e8': 36, 'f1': 45, 'f2': 35, 'f3': 78, 'f4': 86, 'f5': 53, 'f6': 145, 'f7': 30, 'f8': 54, 'g1': 48, 'g2': 55, 'g3': 35, 'g4': 30, 'g5': 70, 'g6': 31, 'g7': 35, 'g8': 47, 'h1': 16, 'h2': 23, 'h3': 20, 'h4': 31, 'h5': 48, 'h6': 28, 'h7': 20, 'h8': 11}\n",
      "1. d4 e6 2. c4 Bb4+ 3. Bd2 Bxd2+ 4. Qxd2 Nf6 5. Nc3 Nc6 6. d5 Ne7 7. e4 d6 8. Bd3 O-O 9. dxe6 Bxe6 10. f4 Nc6 11. Nf3 Re8 12. O-O Nb4 13. Rae1 a6 14. Be2 Nc6 15. h3 Nh5 16. Kh2 Nf6 17. b3 a5 18. Bd3 Nb4 19. Bb1 Nc6 20. Qc2 g6 21. Qc1 Kh8 22. Ng5 Kg8 23. e5 dxe5 24. fxe5 Nd7 25. Qf4 Re7 26. Qh4 h5 27. g4 Ndxe5 28. Nce4 f5 29. Nf6+ Kg7 30. gxf5 Bxf5 31. Rxf5 Qd6 32. Nxh5+ gxh5 33. Kh1 Ng6 34. Rg1 Rf8 35. Rxf8 Kxf8 36. Qxh5 Nce5 37. Rd1 Qb6 38. Rd8+ Re8 39. Bxg6 \n",
      "{'a1': 10, 'a2': 20, 'a3': 42, 'a4': 36, 'a5': 62, 'a6': 38, 'a7': 18, 'a8': 18, 'b1': 37, 'b2': 40, 'b3': 64, 'b4': 72, 'b5': 47, 'b6': 49, 'b7': 30, 'b8': 12, 'c1': 52, 'c2': 31, 'c3': 63, 'c4': 78, 'c5': 159, 'c6': 50, 'c7': 45, 'c8': 54, 'd1': 54, 'd2': 79, 'd3': 68, 'd4': 114, 'd5': 98, 'd6': 58, 'd7': 71, 'd8': 30, 'e1': 39, 'e2': 51, 'e3': 65, 'e4': 91, 'e5': 98, 'e6': 71, 'e7': 41, 'e8': 38, 'f1': 46, 'f2': 35, 'f3': 79, 'f4': 88, 'f5': 57, 'f6': 148, 'f7': 30, 'f8': 58, 'g1': 50, 'g2': 55, 'g3': 35, 'g4': 31, 'g5': 71, 'g6': 34, 'g7': 36, 'g8': 49, 'h1': 17, 'h2': 24, 'h3': 21, 'h4': 32, 'h5': 53, 'h6': 28, 'h7': 20, 'h8': 12}\n",
      "1. d4 Nf6 2. Nc3 d5 3. Bg5 e6 4. e4 dxe4 5. Nxe4 Be7 6. Bxf6 Bxf6 7. Nf3 O-O 8. Qd2 Nd7 9. Bd3 e5 10. Nxf6+ Qxf6 11. Ng5 g6 12. Ne4 Qc6 13. O-O-O exd4 14. Rhe1 Nc5 15. Qh6 Nxe4 16. Rxe4 Qf6 17. Rh4 Qg7 18. Qxg7+ Kxg7 19. Rxd4 Be6 20. Be4 c6 21. Rb4 Rfb8 22. b3 a5 23. Ra4 Ra6 24. Rd6 b5 25. Rad4 Rbb6 26. Rd8 c5 27. Rd3 c4 28. Rd1 h5 29. R1d4 cxb3 30. cxb3 b4 31. Kc2 a4 32. Kb2 axb3 33. axb3 Ra3 34. Bc2 Rba6 35. Rxb4 Ra2+ 36. Kc1 Ra1+ 37. Kd2 R6a2 38. Ra4 Bf5 39. Rxa2 Rxa2 40. Rd3 Bxd3 41. Kxd3 h4 42. Kc3 Kf6 43. f4 Ke7 44. b4 f5 45. h3 Kd6 46. Kd2 Ra3 47. Bd1 Kd5 48. b5 Kc5 49. Be2 Rb3 50. Kc2 Rb4 51. Kd2 Rxf4 52. Ke3 Rb4 53. Kd2 Rb3 54. Kc2 Rg3 55. Bf1 g5 56. Kd2 g4 57. Ke1 Rb3 58. Kd2 Rb1 59. Bd3 Rb2+ 60. Ke1 Rxg2 61. Bxf5 g3 62. Bh7 Rh2 63. Be4 Rxh3 64. b6 Kxb6 \n",
      "{'a1': 11, 'a2': 24, 'a3': 44, 'a4': 39, 'a5': 63, 'a6': 40, 'a7': 18, 'a8': 18, 'b1': 38, 'b2': 42, 'b3': 72, 'b4': 78, 'b5': 49, 'b6': 52, 'b7': 30, 'b8': 13, 'c1': 54, 'c2': 35, 'c3': 65, 'c4': 79, 'c5': 162, 'c6': 52, 'c7': 45, 'c8': 54, 'd1': 57, 'd2': 86, 'd3': 74, 'd4': 119, 'd5': 100, 'd6': 60, 'd7': 72, 'd8': 31, 'e1': 42, 'e2': 52, 'e3': 66, 'e4': 99, 'e5': 99, 'e6': 73, 'e7': 43, 'e8': 38, 'f1': 47, 'f2': 35, 'f3': 80, 'f4': 90, 'f5': 60, 'f6': 155, 'f7': 30, 'f8': 59, 'g1': 50, 'g2': 56, 'g3': 37, 'g4': 32, 'g5': 74, 'g6': 35, 'g7': 39, 'g8': 50, 'h1': 17, 'h2': 25, 'h3': 23, 'h4': 34, 'h5': 54, 'h6': 29, 'h7': 21, 'h8': 12}\n",
      "1. e4 e6 2. d4 d5 3. Nd2 c5 4. exd5 Qxd5 5. dxc5 Bxc5 6. Ngf3 Nf6 7. Bc4 Qh5 8. Qe2 Be7 9. O-O O-O 10. Ne5 Qxe2 11. Bxe2 Nbd7 12. Ndc4 Nd5 13. Rd1 Rd8 14. a3 b5 15. Nxd7 Bxd7 16. Na5 Rac8 17. c3 Be8 18. Bf3 a6 19. Bxd5 Rxd5 20. Rxd5 exd5 21. Be3 f6 22. Rd1 Bf7 23. Nb3 Bh5 24. Rd2 Bf7 25. Nd4 Bg6 26. Ne2 Rd8 27. Nf4 Bf7 28. Bb6 Rd7 29. h4 g5 30. hxg5 fxg5 31. Nd3 Bf6 32. Nb4 h5 33. Be3 a5 34. Nc6 a4 35. Bd4 Kg7 36. Rd3 g4 37. Rd2 Bg6 38. Kh2 Be4 39. Kg3 Kf7 40. Bxf6 Kxf6 41. f3 gxf3 42. gxf3 Bg6 43. Kh4 Rc7 44. Nd4 Rc5 45. Rg2 Bf7 46. Rg5 Rc8 47. Rf5+ Ke7 48. Rf4 Rc4 49. Kg5 Rc8 50. Nf5+ Kd7 51. Rb4 Rb8 52. f4 Rg8+ 53. Kf6 Be8 54. Rxb5 Rg6+ 55. Ke5 Rg2 56. Nd4 Kc8 57. Rb6 Kc7 58. Rh6 Rxb2 59. f5 Rb1 60. Rh7+ Kb6 61. Kd6 Rf1 62. Rh8 Re1 63. Ne6 Bf7 64. Rb8+ Ka7 65. Rf8 Kb6 66. Rxf7 \n",
      "{'a1': 11, 'a2': 24, 'a3': 45, 'a4': 40, 'a5': 65, 'a6': 41, 'a7': 19, 'a8': 18, 'b1': 39, 'b2': 43, 'b3': 73, 'b4': 80, 'b5': 51, 'b6': 56, 'b7': 30, 'b8': 15, 'c1': 54, 'c2': 35, 'c3': 66, 'c4': 82, 'c5': 166, 'c6': 53, 'c7': 47, 'c8': 58, 'd1': 59, 'd2': 89, 'd3': 76, 'd4': 124, 'd5': 108, 'd6': 61, 'd7': 77, 'd8': 33, 'e1': 43, 'e2': 56, 'e3': 68, 'e4': 101, 'e5': 101, 'e6': 75, 'e7': 45, 'e8': 40, 'f1': 49, 'f2': 35, 'f3': 85, 'f4': 93, 'f5': 63, 'f6': 161, 'f7': 37, 'f8': 61, 'g1': 51, 'g2': 58, 'g3': 38, 'g4': 33, 'g5': 79, 'g6': 39, 'g7': 40, 'g8': 52, 'h1': 17, 'h2': 26, 'h3': 23, 'h4': 36, 'h5': 57, 'h6': 30, 'h7': 22, 'h8': 13}\n",
      "1. d4 d5 2. Nc3 Nf6 3. Bg5 Nbd7 4. Nf3 h6 5. Bf4 e6 6. Nb5 Bb4+ 7. c3 Ba5 8. e3 Nh5 9. Qa4 Bb6 10. Bd3 O-O 11. Be5 a6 12. Na3 Nhf6 13. Bg3 c5 14. O-O c4 15. Bb1 Bc7 16. Bxc7 Qxc7 17. Qd1 b5 18. Bc2 Bb7 19. Kh1 Rfb8 20. Qe2 Bc6 21. Nb1 a5 22. Rc1 b4 23. b3 a4 24. bxc4 b3 25. axb3 axb3 26. Rxa8 Bxa8 27. Bd3 dxc4 28. Bxc4 Ng4 29. Nbd2 b2 30. Rb1 Ndf6 31. Kg1 Bxf3 32. Qxf3 Qxh2+ 33. Kf1 Qh1+ 34. Ke2 Qc1 35. Qg3 Re8 36. Qf4 Rc8 37. d5 g5 38. Qd4 Rxc4 39. Qxc4 Nxd5 40. Rxc1 bxc1=Q 41. Qxg4 Qc2 42. Kf1 Nxc3 43. g3 Qxd2 44. Kg2 Qd3 45. Qb4 Ne4 46. Qe1 \n",
      "{'a1': 11, 'a2': 24, 'a3': 46, 'a4': 42, 'a5': 67, 'a6': 42, 'a7': 19, 'a8': 20, 'b1': 42, 'b2': 44, 'b3': 77, 'b4': 83, 'b5': 53, 'b6': 57, 'b7': 31, 'b8': 16, 'c1': 58, 'c2': 37, 'c3': 69, 'c4': 88, 'c5': 167, 'c6': 54, 'c7': 50, 'c8': 59, 'd1': 60, 'd2': 91, 'd3': 79, 'd4': 126, 'd5': 111, 'd6': 61, 'd7': 78, 'd8': 33, 'e1': 44, 'e2': 58, 'e3': 69, 'e4': 102, 'e5': 102, 'e6': 76, 'e7': 45, 'e8': 41, 'f1': 52, 'f2': 35, 'f3': 88, 'f4': 95, 'f5': 63, 'f6': 164, 'f7': 37, 'f8': 62, 'g1': 53, 'g2': 59, 'g3': 41, 'g4': 35, 'g5': 81, 'g6': 39, 'g7': 40, 'g8': 53, 'h1': 19, 'h2': 27, 'h3': 23, 'h4': 36, 'h5': 58, 'h6': 31, 'h7': 22, 'h8': 13}\n",
      "1. d4 Nf6 2. Nf3 d5 3. c4 c6 4. Nc3 e6 5. e3 Nbd7 6. Bd3 dxc4 7. Bxc4 b5 8. Be2 Bb7 9. O-O Be7 10. e4 b4 11. e5 bxc3 12. exf6 Bxf6 13. bxc3 c5 14. Rb1 Be4 15. Bd3 Bxd3 16. Qxd3 O-O 17. Rd1 Qa5 18. Ng5 Bxg5 19. Bxg5 cxd4 20. Rb5 Qxa2 21. Qxd4 Nb6 22. Bf6 Qe2 23. Rg5 g6 24. Ra5 Nd5 25. Raa1 Nxf6 26. Rd2 e5 27. Qd6 Qc4 28. Qxf6 Qxc3 29. Rdd1 a5 30. h4 h5 31. Rdc1 Qb4 32. Rcb1 Qc4 33. Rc1 Qg4 34. Qxe5 a4 35. Qf6 Rfc8 36. Rd1 a3 37. Kh2 Qa4 38. Kg1 a2 39. Rd2 Rc2 40. Rd6 Qe8 41. g3 Re2 42. Rdd1 Rc8 43. Kh2 Rc6 44. Qf4 Rcc2 45. Rf1 Qc6 46. Rad1 Qb6 47. Kg1 Rb2 48. Qf3 Rec2 49. Rde1 Rb1 50. Qa8+ Kg7 51. Qxa2 Rbb2 52. Qxb2+ Rxb2 53. Re3 Qc6 54. Rd3 f6 55. Rfd1 Qc2 56. Rd7+ Kh6 57. Rf1 Qc5 58. Rd3 g5 59. hxg5+ fxg5 60. Rf3 h4 61. Re3 Qf5 62. Rc3 h3 63. Re3 Qd5 64. f3 Qd2 65. Re6+ Kg7 66. Re7+ Kf6 67. Rf7+ Kxf7 68. Rf2 Qxf2+ 69. Kh1 Rb1# \n",
      "{'a1': 12, 'a2': 27, 'a3': 47, 'a4': 44, 'a5': 70, 'a6': 42, 'a7': 19, 'a8': 21, 'b1': 46, 'b2': 48, 'b3': 77, 'b4': 85, 'b5': 55, 'b6': 59, 'b7': 32, 'b8': 16, 'c1': 60, 'c2': 41, 'c3': 74, 'c4': 93, 'c5': 169, 'c6': 58, 'c7': 50, 'c8': 61, 'd1': 66, 'd2': 94, 'd3': 85, 'd4': 129, 'd5': 114, 'd6': 63, 'd7': 80, 'd8': 33, 'e1': 45, 'e2': 61, 'e3': 73, 'e4': 104, 'e5': 105, 'e6': 78, 'e7': 47, 'e8': 42, 'f1': 55, 'f2': 37, 'f3': 92, 'f4': 96, 'f5': 64, 'f6': 173, 'f7': 39, 'f8': 63, 'g1': 56, 'g2': 59, 'g3': 42, 'g4': 36, 'g5': 88, 'g6': 40, 'g7': 42, 'g8': 54, 'h1': 20, 'h2': 29, 'h3': 24, 'h4': 38, 'h5': 59, 'h6': 32, 'h7': 22, 'h8': 13}\n",
      "1. Nc3 e6 2. e4 d5 3. exd5 exd5 4. Nf3 Nf6 5. d4 Bd6 6. Bd3 O-O 7. O-O a6 8. h3 Nc6 9. a3 h6 10. Bd2 Re8 11. Qc1 Bd7 12. Bxh6 gxh6 13. Qxh6 Bf8 14. Qg5+ Bg7 15. Nxd5 Nxd5 16. Qxd5 Be6 17. Qh5 Nxd4 18. Ng5 Qf6 19. Nh7 Qf4 20. Ng5 Bd5 21. Rae1 Be5 22. g3 Nf3+ 23. Nxf3 Qxf3 24. Qh7+ Kf8 25. Be4 Bxe4 26. Rxe4 Bg7 27. Rf4 Qe2 28. Rg4 Qe5 29. b3 Rad8 30. h4 Rd2 31. c4 Re6 32. Rf4 b6 33. Rf5 Qe2 34. Rg5 Bd4 35. Rf5 Rf6 36. Rxf6 Bxf6 37. Qh6+ Bg7 38. Qf4 Be5 39. Qh6+ Ke8 40. Qc6+ Ke7 41. Qg2 Rd3 42. b4 Rxa3 43. h5 Qxh5 44. Qe4 Rb3 45. f4 Qh3 46. Qxe5+ Kf8 47. Qe4 Rxg3+ 48. Kf2 Qh2+ 49. Ke1 Ra3 50. Qd4 Qg3+ 51. Rf2 Re3+ 52. Qxe3 Qxe3+ 53. Kf1 Qd3+ 54. Re2 Qxc4 55. Kf2 Qxf4+ 56. Kg2 Qxb4 57. Kf3 f5 58. Re3 a5 59. Re2 a4 60. Re5 Qg4+ 61. Ke3 c5 62. Rxc5 bxc5 63. Kd2 a3 64. Kc2 Qe2+ 65. Kb3 a2 66. Ka4 a1=Q+ 67. Kb3 Qea2# \n"
     ]
    },
    {
     "ename": "KeyError",
     "evalue": "<class 'str'>",
     "output_type": "error",
     "traceback": [
      "\u001b[1;31m---------------------------------------------------------------------------\u001b[0m",
      "\u001b[1;31mKeyError\u001b[0m                                  Traceback (most recent call last)",
      "\u001b[1;32m<ipython-input-214-77fd082cbdb0>\u001b[0m in \u001b[0;36m<module>\u001b[1;34m\u001b[0m\n\u001b[1;32m----> 1\u001b[1;33m \u001b[0mnp\u001b[0m\u001b[1;33m.\u001b[0m\u001b[0mvectorize\u001b[0m\u001b[1;33m(\u001b[0m\u001b[0mboard_heatmap\u001b[0m\u001b[1;33m)\u001b[0m\u001b[1;33m(\u001b[0m\u001b[0mdf\u001b[0m\u001b[1;33m[\u001b[0m\u001b[1;34m'Moves'\u001b[0m\u001b[1;33m]\u001b[0m\u001b[1;33m)\u001b[0m\u001b[1;33m\u001b[0m\u001b[1;33m\u001b[0m\u001b[0m\n\u001b[0m",
      "\u001b[1;32mc:\\users\\user\\appdata\\local\\programs\\python\\python39\\lib\\site-packages\\numpy\\lib\\function_base.py\u001b[0m in \u001b[0;36m__call__\u001b[1;34m(self, *args, **kwargs)\u001b[0m\n\u001b[0;32m   2111\u001b[0m             \u001b[0mvargs\u001b[0m\u001b[1;33m.\u001b[0m\u001b[0mextend\u001b[0m\u001b[1;33m(\u001b[0m\u001b[1;33m[\u001b[0m\u001b[0mkwargs\u001b[0m\u001b[1;33m[\u001b[0m\u001b[0m_n\u001b[0m\u001b[1;33m]\u001b[0m \u001b[1;32mfor\u001b[0m \u001b[0m_n\u001b[0m \u001b[1;32min\u001b[0m \u001b[0mnames\u001b[0m\u001b[1;33m]\u001b[0m\u001b[1;33m)\u001b[0m\u001b[1;33m\u001b[0m\u001b[1;33m\u001b[0m\u001b[0m\n\u001b[0;32m   2112\u001b[0m \u001b[1;33m\u001b[0m\u001b[0m\n\u001b[1;32m-> 2113\u001b[1;33m         \u001b[1;32mreturn\u001b[0m \u001b[0mself\u001b[0m\u001b[1;33m.\u001b[0m\u001b[0m_vectorize_call\u001b[0m\u001b[1;33m(\u001b[0m\u001b[0mfunc\u001b[0m\u001b[1;33m=\u001b[0m\u001b[0mfunc\u001b[0m\u001b[1;33m,\u001b[0m \u001b[0margs\u001b[0m\u001b[1;33m=\u001b[0m\u001b[0mvargs\u001b[0m\u001b[1;33m)\u001b[0m\u001b[1;33m\u001b[0m\u001b[1;33m\u001b[0m\u001b[0m\n\u001b[0m\u001b[0;32m   2114\u001b[0m \u001b[1;33m\u001b[0m\u001b[0m\n\u001b[0;32m   2115\u001b[0m     \u001b[1;32mdef\u001b[0m \u001b[0m_get_ufunc_and_otypes\u001b[0m\u001b[1;33m(\u001b[0m\u001b[0mself\u001b[0m\u001b[1;33m,\u001b[0m \u001b[0mfunc\u001b[0m\u001b[1;33m,\u001b[0m \u001b[0margs\u001b[0m\u001b[1;33m)\u001b[0m\u001b[1;33m:\u001b[0m\u001b[1;33m\u001b[0m\u001b[1;33m\u001b[0m\u001b[0m\n",
      "\u001b[1;32mc:\\users\\user\\appdata\\local\\programs\\python\\python39\\lib\\site-packages\\numpy\\lib\\function_base.py\u001b[0m in \u001b[0;36m_vectorize_call\u001b[1;34m(self, func, args)\u001b[0m\n\u001b[0;32m   2195\u001b[0m                       for a in args]\n\u001b[0;32m   2196\u001b[0m \u001b[1;33m\u001b[0m\u001b[0m\n\u001b[1;32m-> 2197\u001b[1;33m             \u001b[0moutputs\u001b[0m \u001b[1;33m=\u001b[0m \u001b[0mufunc\u001b[0m\u001b[1;33m(\u001b[0m\u001b[1;33m*\u001b[0m\u001b[0minputs\u001b[0m\u001b[1;33m)\u001b[0m\u001b[1;33m\u001b[0m\u001b[1;33m\u001b[0m\u001b[0m\n\u001b[0m\u001b[0;32m   2198\u001b[0m \u001b[1;33m\u001b[0m\u001b[0m\n\u001b[0;32m   2199\u001b[0m             \u001b[1;32mif\u001b[0m \u001b[0mufunc\u001b[0m\u001b[1;33m.\u001b[0m\u001b[0mnout\u001b[0m \u001b[1;33m==\u001b[0m \u001b[1;36m1\u001b[0m\u001b[1;33m:\u001b[0m\u001b[1;33m\u001b[0m\u001b[1;33m\u001b[0m\u001b[0m\n",
      "\u001b[1;32m<ipython-input-213-6c7ca02d244d>\u001b[0m in \u001b[0;36mboard_heatmap\u001b[1;34m(moves)\u001b[0m\n\u001b[0;32m     25\u001b[0m         \u001b[1;32melif\u001b[0m \u001b[0mmove\u001b[0m\u001b[1;33m.\u001b[0m\u001b[0mendswith\u001b[0m\u001b[1;33m(\u001b[0m\u001b[1;34m'+'\u001b[0m\u001b[1;33m)\u001b[0m \u001b[1;32mor\u001b[0m \u001b[0mmove\u001b[0m\u001b[1;33m.\u001b[0m\u001b[0mendswith\u001b[0m\u001b[1;33m(\u001b[0m\u001b[1;34m'#'\u001b[0m\u001b[1;33m)\u001b[0m\u001b[1;33m:\u001b[0m\u001b[1;33m\u001b[0m\u001b[1;33m\u001b[0m\u001b[0m\n\u001b[0;32m     26\u001b[0m             \u001b[1;32mif\u001b[0m \u001b[0mstr\u001b[0m\u001b[1;33m(\u001b[0m\u001b[0mmove\u001b[0m\u001b[1;33m[\u001b[0m\u001b[1;33m-\u001b[0m\u001b[1;36m3\u001b[0m\u001b[1;33m:\u001b[0m\u001b[1;33m-\u001b[0m\u001b[1;36m2\u001b[0m\u001b[1;33m]\u001b[0m\u001b[1;33m)\u001b[0m \u001b[1;33m==\u001b[0m \u001b[1;34m'='\u001b[0m\u001b[1;33m:\u001b[0m\u001b[1;33m\u001b[0m\u001b[1;33m\u001b[0m\u001b[0m\n\u001b[1;32m---> 27\u001b[1;33m                 \u001b[0msq_dict\u001b[0m\u001b[1;33m[\u001b[0m\u001b[0mstr\u001b[0m\u001b[1;33m]\u001b[0m\u001b[1;33m\u001b[0m\u001b[1;33m\u001b[0m\u001b[0m\n\u001b[0m\u001b[0;32m     28\u001b[0m             \u001b[0msq_dict\u001b[0m\u001b[1;33m[\u001b[0m\u001b[0mstr\u001b[0m\u001b[1;33m(\u001b[0m\u001b[0mmove\u001b[0m\u001b[1;33m[\u001b[0m\u001b[1;33m-\u001b[0m\u001b[1;36m3\u001b[0m\u001b[1;33m:\u001b[0m\u001b[1;33m-\u001b[0m\u001b[1;36m1\u001b[0m\u001b[1;33m]\u001b[0m\u001b[1;33m)\u001b[0m\u001b[1;33m]\u001b[0m \u001b[1;33m=\u001b[0m \u001b[0msq_dict\u001b[0m\u001b[1;33m[\u001b[0m\u001b[0mstr\u001b[0m\u001b[1;33m(\u001b[0m\u001b[0mmove\u001b[0m\u001b[1;33m[\u001b[0m\u001b[1;33m-\u001b[0m\u001b[1;36m3\u001b[0m\u001b[1;33m:\u001b[0m\u001b[1;33m-\u001b[0m\u001b[1;36m1\u001b[0m\u001b[1;33m]\u001b[0m\u001b[1;33m)\u001b[0m\u001b[1;33m]\u001b[0m \u001b[1;33m+\u001b[0m \u001b[1;36m1\u001b[0m\u001b[1;33m\u001b[0m\u001b[1;33m\u001b[0m\u001b[0m\n\u001b[0;32m     29\u001b[0m         \u001b[1;32melif\u001b[0m \u001b[0mmove\u001b[0m\u001b[1;33m.\u001b[0m\u001b[0mendswith\u001b[0m\u001b[1;33m(\u001b[0m\u001b[1;34m'Q'\u001b[0m\u001b[1;33m)\u001b[0m \u001b[1;32mor\u001b[0m \u001b[0mmove\u001b[0m\u001b[1;33m.\u001b[0m\u001b[0mendswith\u001b[0m\u001b[1;33m(\u001b[0m\u001b[1;34m'N'\u001b[0m\u001b[1;33m)\u001b[0m \u001b[1;32mor\u001b[0m \u001b[0mmove\u001b[0m\u001b[1;33m.\u001b[0m\u001b[0mendswith\u001b[0m\u001b[1;33m(\u001b[0m\u001b[1;34m'B'\u001b[0m\u001b[1;33m)\u001b[0m \u001b[1;32mor\u001b[0m \u001b[0mmove\u001b[0m\u001b[1;33m.\u001b[0m\u001b[0mendswith\u001b[0m\u001b[1;33m(\u001b[0m\u001b[1;34m'R'\u001b[0m\u001b[1;33m)\u001b[0m\u001b[1;33m:\u001b[0m\u001b[1;33m\u001b[0m\u001b[1;33m\u001b[0m\u001b[0m\n",
      "\u001b[1;31mKeyError\u001b[0m: <class 'str'>"
     ]
    }
   ],
   "source": [
    "np.vectorize(board_heatmap)(df['Moves'])"
   ]
  },
  {
   "cell_type": "code",
   "execution_count": 212,
   "id": "judicial-treasure",
   "metadata": {},
   "outputs": [
    {
     "ename": "AttributeError",
     "evalue": "'list' object has no attribute 'split'",
     "output_type": "error",
     "traceback": [
      "\u001b[1;31m---------------------------------------------------------------------------\u001b[0m",
      "\u001b[1;31mAttributeError\u001b[0m                            Traceback (most recent call last)",
      "\u001b[1;32m<ipython-input-212-cf72b9347a2b>\u001b[0m in \u001b[0;36m<module>\u001b[1;34m\u001b[0m\n\u001b[0;32m      1\u001b[0m \u001b[0mtest\u001b[0m \u001b[1;33m=\u001b[0m \u001b[1;33m[\u001b[0m\u001b[1;34m'Nc3'\u001b[0m\u001b[1;33m,\u001b[0m \u001b[1;34m'e6'\u001b[0m\u001b[1;33m,\u001b[0m \u001b[1;34m'e4'\u001b[0m\u001b[1;33m,\u001b[0m \u001b[1;34m'd5'\u001b[0m\u001b[1;33m,\u001b[0m \u001b[1;34m'exd5'\u001b[0m\u001b[1;33m,\u001b[0m \u001b[1;34m'exd5'\u001b[0m\u001b[1;33m,\u001b[0m \u001b[1;34m'Nf3'\u001b[0m\u001b[1;33m,\u001b[0m \u001b[1;34m'Nf6'\u001b[0m\u001b[1;33m,\u001b[0m \u001b[1;34m'd4'\u001b[0m\u001b[1;33m,\u001b[0m \u001b[1;34m'Bd6'\u001b[0m\u001b[1;33m,\u001b[0m \u001b[1;34m'Bd3'\u001b[0m\u001b[1;33m,\u001b[0m \u001b[1;34m'O-O'\u001b[0m\u001b[1;33m,\u001b[0m \u001b[1;34m'O-O'\u001b[0m\u001b[1;33m,\u001b[0m \u001b[1;34m'a6'\u001b[0m\u001b[1;33m,\u001b[0m \u001b[1;34m'h3'\u001b[0m\u001b[1;33m,\u001b[0m \u001b[1;34m'Nc6'\u001b[0m\u001b[1;33m,\u001b[0m \u001b[1;34m'a3'\u001b[0m\u001b[1;33m,\u001b[0m \u001b[1;34m'h6'\u001b[0m\u001b[1;33m,\u001b[0m \u001b[1;34m'Bd2'\u001b[0m\u001b[1;33m,\u001b[0m \u001b[1;34m'Re8'\u001b[0m\u001b[1;33m,\u001b[0m \u001b[1;34m'Qc1'\u001b[0m\u001b[1;33m,\u001b[0m \u001b[1;34m'Bd7'\u001b[0m\u001b[1;33m,\u001b[0m \u001b[1;34m'Bxh6'\u001b[0m\u001b[1;33m,\u001b[0m \u001b[1;34m'gxh6'\u001b[0m\u001b[1;33m,\u001b[0m \u001b[1;34m'Qxh6'\u001b[0m\u001b[1;33m,\u001b[0m \u001b[1;34m'Bf8'\u001b[0m\u001b[1;33m,\u001b[0m \u001b[1;34m'Qg5+'\u001b[0m\u001b[1;33m,\u001b[0m \u001b[1;34m'Bg7'\u001b[0m\u001b[1;33m,\u001b[0m \u001b[1;34m'Nxd5'\u001b[0m\u001b[1;33m,\u001b[0m \u001b[1;34m'Nxd5'\u001b[0m\u001b[1;33m,\u001b[0m \u001b[1;34m'Qxd5'\u001b[0m\u001b[1;33m,\u001b[0m \u001b[1;34m'Be6'\u001b[0m\u001b[1;33m,\u001b[0m \u001b[1;34m'Qh5'\u001b[0m\u001b[1;33m,\u001b[0m \u001b[1;34m'Nxd4'\u001b[0m\u001b[1;33m,\u001b[0m \u001b[1;34m'Ng5'\u001b[0m\u001b[1;33m,\u001b[0m \u001b[1;34m'Qf6'\u001b[0m\u001b[1;33m,\u001b[0m \u001b[1;34m'Nh7'\u001b[0m\u001b[1;33m,\u001b[0m \u001b[1;34m'Qf4'\u001b[0m\u001b[1;33m,\u001b[0m \u001b[1;34m'Ng5'\u001b[0m\u001b[1;33m,\u001b[0m \u001b[1;34m'Bd5'\u001b[0m\u001b[1;33m,\u001b[0m \u001b[1;34m'Rae1'\u001b[0m\u001b[1;33m,\u001b[0m \u001b[1;34m'Be5'\u001b[0m\u001b[1;33m,\u001b[0m \u001b[1;34m'g3'\u001b[0m\u001b[1;33m,\u001b[0m \u001b[1;34m'Nf3+'\u001b[0m\u001b[1;33m,\u001b[0m \u001b[1;34m'Nxf3'\u001b[0m\u001b[1;33m,\u001b[0m \u001b[1;34m'Qxf3'\u001b[0m\u001b[1;33m,\u001b[0m \u001b[1;34m'Qh7+'\u001b[0m\u001b[1;33m,\u001b[0m \u001b[1;34m'Kf8'\u001b[0m\u001b[1;33m,\u001b[0m \u001b[1;34m'Be4'\u001b[0m\u001b[1;33m,\u001b[0m \u001b[1;34m'Bxe4'\u001b[0m\u001b[1;33m,\u001b[0m \u001b[1;34m'Rxe4'\u001b[0m\u001b[1;33m,\u001b[0m \u001b[1;34m'Bg7'\u001b[0m\u001b[1;33m,\u001b[0m \u001b[1;34m'Rf4'\u001b[0m\u001b[1;33m,\u001b[0m \u001b[1;34m'Qe2'\u001b[0m\u001b[1;33m,\u001b[0m \u001b[1;34m'Rg4'\u001b[0m\u001b[1;33m,\u001b[0m \u001b[1;34m'Qe5'\u001b[0m\u001b[1;33m,\u001b[0m \u001b[1;34m'b3'\u001b[0m\u001b[1;33m,\u001b[0m \u001b[1;34m'Rad8'\u001b[0m\u001b[1;33m,\u001b[0m \u001b[1;34m'h4'\u001b[0m\u001b[1;33m,\u001b[0m \u001b[1;34m'Rd2'\u001b[0m\u001b[1;33m,\u001b[0m \u001b[1;34m'c4'\u001b[0m\u001b[1;33m,\u001b[0m \u001b[1;34m'Re6'\u001b[0m\u001b[1;33m,\u001b[0m \u001b[1;34m'Rf4'\u001b[0m\u001b[1;33m,\u001b[0m \u001b[1;34m'b6'\u001b[0m\u001b[1;33m,\u001b[0m \u001b[1;34m'Rf5'\u001b[0m\u001b[1;33m,\u001b[0m \u001b[1;34m'Qe2'\u001b[0m\u001b[1;33m,\u001b[0m \u001b[1;34m'Rg5'\u001b[0m\u001b[1;33m,\u001b[0m \u001b[1;34m'Bd4'\u001b[0m\u001b[1;33m,\u001b[0m \u001b[1;34m'Rf5'\u001b[0m\u001b[1;33m,\u001b[0m \u001b[1;34m'Rf6'\u001b[0m\u001b[1;33m,\u001b[0m \u001b[1;34m'Rxf6'\u001b[0m\u001b[1;33m,\u001b[0m \u001b[1;34m'Bxf6'\u001b[0m\u001b[1;33m,\u001b[0m \u001b[1;34m'Qh6+'\u001b[0m\u001b[1;33m,\u001b[0m \u001b[1;34m'Bg7'\u001b[0m\u001b[1;33m,\u001b[0m \u001b[1;34m'Qf4'\u001b[0m\u001b[1;33m,\u001b[0m \u001b[1;34m'Be5'\u001b[0m\u001b[1;33m,\u001b[0m \u001b[1;34m'Qh6+'\u001b[0m\u001b[1;33m,\u001b[0m \u001b[1;34m'Ke8'\u001b[0m\u001b[1;33m,\u001b[0m \u001b[1;34m'Qc6+'\u001b[0m\u001b[1;33m,\u001b[0m \u001b[1;34m'Ke7'\u001b[0m\u001b[1;33m,\u001b[0m \u001b[1;34m'Qg2'\u001b[0m\u001b[1;33m,\u001b[0m \u001b[1;34m'Rd3'\u001b[0m\u001b[1;33m,\u001b[0m \u001b[1;34m'b4'\u001b[0m\u001b[1;33m,\u001b[0m \u001b[1;34m'Rxa3'\u001b[0m\u001b[1;33m,\u001b[0m \u001b[1;34m'h5'\u001b[0m\u001b[1;33m,\u001b[0m \u001b[1;34m'Qxh5'\u001b[0m\u001b[1;33m,\u001b[0m \u001b[1;34m'Qe4'\u001b[0m\u001b[1;33m,\u001b[0m \u001b[1;34m'Rb3'\u001b[0m\u001b[1;33m,\u001b[0m \u001b[1;34m'f4'\u001b[0m\u001b[1;33m,\u001b[0m \u001b[1;34m'Qh3'\u001b[0m\u001b[1;33m,\u001b[0m \u001b[1;34m'Qxe5+'\u001b[0m\u001b[1;33m,\u001b[0m \u001b[1;34m'Kf8'\u001b[0m\u001b[1;33m,\u001b[0m \u001b[1;34m'Qe4'\u001b[0m\u001b[1;33m,\u001b[0m \u001b[1;34m'Rxg3+'\u001b[0m\u001b[1;33m,\u001b[0m \u001b[1;34m'Kf2'\u001b[0m\u001b[1;33m,\u001b[0m \u001b[1;34m'Qh2+'\u001b[0m\u001b[1;33m,\u001b[0m \u001b[1;34m'Ke1'\u001b[0m\u001b[1;33m,\u001b[0m \u001b[1;34m'Ra3'\u001b[0m\u001b[1;33m,\u001b[0m \u001b[1;34m'Qd4'\u001b[0m\u001b[1;33m,\u001b[0m \u001b[1;34m'Qg3+'\u001b[0m\u001b[1;33m,\u001b[0m \u001b[1;34m'Rf2'\u001b[0m\u001b[1;33m,\u001b[0m \u001b[1;34m'Re3+'\u001b[0m\u001b[1;33m,\u001b[0m \u001b[1;34m'Qxe3'\u001b[0m\u001b[1;33m,\u001b[0m \u001b[1;34m'Qxe3+'\u001b[0m\u001b[1;33m,\u001b[0m \u001b[1;34m'Kf1'\u001b[0m\u001b[1;33m,\u001b[0m \u001b[1;34m'Qd3+'\u001b[0m\u001b[1;33m,\u001b[0m \u001b[1;34m'Re2'\u001b[0m\u001b[1;33m,\u001b[0m \u001b[1;34m'Qxc4'\u001b[0m\u001b[1;33m,\u001b[0m \u001b[1;34m'Kf2'\u001b[0m\u001b[1;33m,\u001b[0m \u001b[1;34m'Qxf4+'\u001b[0m\u001b[1;33m,\u001b[0m \u001b[1;34m'Kg2'\u001b[0m\u001b[1;33m,\u001b[0m \u001b[1;34m'Qxb4'\u001b[0m\u001b[1;33m,\u001b[0m \u001b[1;34m'Kf3'\u001b[0m\u001b[1;33m,\u001b[0m \u001b[1;34m'f5'\u001b[0m\u001b[1;33m,\u001b[0m \u001b[1;34m'Re3'\u001b[0m\u001b[1;33m,\u001b[0m \u001b[1;34m'a5'\u001b[0m\u001b[1;33m,\u001b[0m \u001b[1;34m'Re2'\u001b[0m\u001b[1;33m,\u001b[0m \u001b[1;34m'a4'\u001b[0m\u001b[1;33m,\u001b[0m \u001b[1;34m'Re5'\u001b[0m\u001b[1;33m,\u001b[0m \u001b[1;34m'Qg4+'\u001b[0m\u001b[1;33m,\u001b[0m \u001b[1;34m'Ke3'\u001b[0m\u001b[1;33m,\u001b[0m \u001b[1;34m'c5'\u001b[0m\u001b[1;33m,\u001b[0m \u001b[1;34m'Rxc5'\u001b[0m\u001b[1;33m,\u001b[0m \u001b[1;34m'bxc5'\u001b[0m\u001b[1;33m,\u001b[0m \u001b[1;34m'Kd2'\u001b[0m\u001b[1;33m,\u001b[0m \u001b[1;34m'a3'\u001b[0m\u001b[1;33m,\u001b[0m \u001b[1;34m'Kc2'\u001b[0m\u001b[1;33m,\u001b[0m \u001b[1;34m'Qe2+'\u001b[0m\u001b[1;33m,\u001b[0m \u001b[1;34m'Kb3'\u001b[0m\u001b[1;33m,\u001b[0m \u001b[1;34m'a2'\u001b[0m\u001b[1;33m,\u001b[0m \u001b[1;34m'Ka4'\u001b[0m\u001b[1;33m,\u001b[0m \u001b[1;34m'a1=Q+'\u001b[0m\u001b[1;33m,\u001b[0m \u001b[1;34m'Kb3'\u001b[0m\u001b[1;33m,\u001b[0m \u001b[1;34m'Qea2#'\u001b[0m\u001b[1;33m,\u001b[0m \u001b[1;34m''\u001b[0m\u001b[1;33m]\u001b[0m\u001b[1;33m\u001b[0m\u001b[1;33m\u001b[0m\u001b[0m\n\u001b[1;32m----> 2\u001b[1;33m \u001b[0mboard_heatmap\u001b[0m\u001b[1;33m(\u001b[0m\u001b[0mtest\u001b[0m\u001b[1;33m)\u001b[0m\u001b[1;33m\u001b[0m\u001b[1;33m\u001b[0m\u001b[0m\n\u001b[0m",
      "\u001b[1;32m<ipython-input-210-7af95d554a27>\u001b[0m in \u001b[0;36mboard_heatmap\u001b[1;34m(moves)\u001b[0m\n\u001b[0;32m      1\u001b[0m \u001b[1;32mdef\u001b[0m \u001b[0mboard_heatmap\u001b[0m\u001b[1;33m(\u001b[0m\u001b[0mmoves\u001b[0m\u001b[1;33m)\u001b[0m\u001b[1;33m:\u001b[0m \u001b[1;31m#Fills the above created dictionary for\u001b[0m\u001b[1;33m\u001b[0m\u001b[1;33m\u001b[0m\u001b[0m\n\u001b[1;32m----> 2\u001b[1;33m     \u001b[0mmoves\u001b[0m \u001b[1;33m=\u001b[0m \u001b[0mmoves\u001b[0m\u001b[1;33m.\u001b[0m\u001b[0msplit\u001b[0m\u001b[1;33m(\u001b[0m\u001b[1;34m' '\u001b[0m\u001b[1;33m)\u001b[0m\u001b[1;33m\u001b[0m\u001b[1;33m\u001b[0m\u001b[0m\n\u001b[0m\u001b[0;32m      3\u001b[0m     \u001b[0mmoves\u001b[0m \u001b[1;33m=\u001b[0m \u001b[1;33m[\u001b[0m\u001b[0mmove\u001b[0m \u001b[1;32mfor\u001b[0m \u001b[0mmove\u001b[0m \u001b[1;32min\u001b[0m \u001b[0mmoves\u001b[0m \u001b[1;32mif\u001b[0m \u001b[0mmove\u001b[0m\u001b[1;33m.\u001b[0m\u001b[0mendswith\u001b[0m\u001b[1;33m(\u001b[0m\u001b[1;34m'.'\u001b[0m\u001b[1;33m)\u001b[0m \u001b[1;33m==\u001b[0m \u001b[1;32mFalse\u001b[0m\u001b[1;33m]\u001b[0m\u001b[1;33m\u001b[0m\u001b[1;33m\u001b[0m\u001b[0m\n\u001b[0;32m      4\u001b[0m     \u001b[0mprint\u001b[0m\u001b[1;33m(\u001b[0m\u001b[0mmoves\u001b[0m\u001b[1;33m)\u001b[0m\u001b[1;33m\u001b[0m\u001b[1;33m\u001b[0m\u001b[0m\n\u001b[0;32m      5\u001b[0m     \u001b[1;32mfor\u001b[0m \u001b[0mmove\u001b[0m \u001b[1;32min\u001b[0m \u001b[0mmoves\u001b[0m\u001b[1;33m:\u001b[0m\u001b[1;33m\u001b[0m\u001b[1;33m\u001b[0m\u001b[0m\n",
      "\u001b[1;31mAttributeError\u001b[0m: 'list' object has no attribute 'split'"
     ]
    }
   ],
   "source": [
    "test = '1. Nc3 e6 2. e4 d5 3. exd5 exd5 4. Nf3 Nf6 5. d4 Bd6 6. Bd3 O-O 7. O-O a6 8. h3 Nc6 9. a3 h6 10. Bd2 Re8 11. Qc1 Bd7 12. Bxh6 gxh6 13. Qxh6 Bf8 14. Qg5+ Bg7 15. Nxd5 Nxd5 16. Qxd5 Be6 17. Qh5 Nxd4 18. Ng5 Qf6 19. Nh7 Qf4 20. Ng5 Bd5 21. Rae1 Be5 22. g3 Nf3+ 23. Nxf3 Qxf3 24. Qh7+ Kf8 25. Be4 Bxe4 26. Rxe4 Bg7 27. Rf4 Qe2 28. Rg4 Qe5 29. b3 Rad8 30. h4 Rd2 31. c4 Re6 32. Rf4 b6 33. Rf5 Qe2 34. Rg5 Bd4 35. Rf5 Rf6 36. Rxf6 Bxf6 37. Qh6+ Bg7 38. Qf4 Be5 39. Qh6+ Ke8 40. Qc6+ Ke7 41. Qg2 Rd3 42. b4 Rxa3 43. h5 Qxh5 44. Qe4 Rb3 45. f4 Qh3 46. Qxe5+ Kf8 47. Qe4 Rxg3+ 48. Kf2 Qh2+ 49. Ke1 Ra3 50. Qd4 Qg3+ 51. Rf2 Re3+ 52. Qxe3 Qxe3+ 53. Kf1 Qd3+ 54. Re2 Qxc4 55. Kf2 Qxf4+ 56. Kg2 Qxb4 57. Kf3 f5 58. Re3 a5 59. Re2 a4 60. Re5 Qg4+ 61. Ke3 c5 62. Rxc5 bxc5 63. Kd2 a3 64. Kc2 Qe2+ 65. Kb3 a2 66. Ka4 a1=Q+ 67. Kb3 Qea2#'\n",
    "board_heatmap(test)"
   ]
  },
  {
   "cell_type": "code",
   "execution_count": null,
   "id": "sunset-waterproof",
   "metadata": {},
   "outputs": [],
   "source": []
  }
 ],
 "metadata": {
  "kernelspec": {
   "display_name": "Python 3",
   "language": "python",
   "name": "python3"
  },
  "language_info": {
   "codemirror_mode": {
    "name": "ipython",
    "version": 3
   },
   "file_extension": ".py",
   "mimetype": "text/x-python",
   "name": "python",
   "nbconvert_exporter": "python",
   "pygments_lexer": "ipython3",
   "version": "3.9.2"
  }
 },
 "nbformat": 4,
 "nbformat_minor": 5
}
